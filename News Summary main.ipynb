{
 "cells": [
  {
   "cell_type": "markdown",
   "id": "bd0c8a34",
   "metadata": {},
   "source": [
    "# News Summarization Approaches for NLP"
   ]
  },
  {
   "cell_type": "markdown",
   "id": "3ecda095",
   "metadata": {},
   "source": [
    "Text summarization in NLP is the process of summarizing the information in large texts for quicker consumption. In this notebook, I will walk you through the traditional extractive as well as the advanced generative methods to implement News summarization.\n",
    "\n",
    "When you open news sites, do you just start reading every news article? Probably not. We typically glance the short news summary and then read more details if interested. Short, informative summaries of the news is now everywhere like magazines, news aggregator apps, research sites, etc.\n",
    "It is essential for the summary to be a fluent, continuous and depict the significant.\n",
    "\n",
    "Text summarization methods can be grouped into two main categories: \n",
    "- Extractive \n",
    "- Abstractive \n",
    "\n",
    "\n",
    "\n"
   ]
  },
  {
   "cell_type": "markdown",
   "id": "39ba9015",
   "metadata": {},
   "source": [
    "# import necessary libraries\n"
   ]
  },
  {
   "cell_type": "code",
   "execution_count": 1,
   "id": "19bc6c0d",
   "metadata": {},
   "outputs": [],
   "source": [
    "## for uploading data\n",
    "import pandas as pd\n",
    "import os\n",
    "from pathlib import Path\n",
    "\n",
    "\n",
    "## for uploadinf data\n",
    "import pandas as pd\n",
    "import os\n",
    "import numpy as np\n",
    "\n",
    "\n",
    "## for plotting\n",
    "import matplotlib.pyplot as plt\n",
    "import seaborn as sns\n",
    "\n",
    "## import necessary nlp libraries\n",
    "import re\n",
    "import nltk\n",
    "from nltk.corpus import stopwords\n",
    "from nltk.stem import WordNetLemmatizer\n",
    "lem = WordNetLemmatizer()\n",
    "from nltk import sent_tokenize\n",
    "\n",
    "\n",
    "from sumy.parsers.plaintext import PlaintextParser\n",
    "from sumy.nlp.tokenizers import Tokenizer\n",
    "\n",
    "# TextRank \n",
    "from sumy.summarizers.text_rank import TextRankSummarizer\n",
    "\n",
    "# LexRank\n",
    "from sumy.summarizers.lex_rank import LexRankSummarizer\n",
    "\n",
    "#BART \n",
    "from transformers import BartTokenizer, BartForConditionalGeneration\n",
    "from transformers import AutoTokenizer, AutoModelForSeq2SeqLM\n",
    "\n",
    "import torch\n",
    "\n",
    "# Evaluation\n",
    "from rouge import Rouge\n",
    "rouge = Rouge()\n",
    "\n",
    "#Our Application\n",
    "from app import Summarizer\n",
    "from utils import Article\n"
   ]
  },
  {
   "cell_type": "markdown",
   "id": "bc86ec5a",
   "metadata": {},
   "source": [
    "# Main :\n",
    "\n"
   ]
  },
  {
   "cell_type": "markdown",
   "id": "bdb58ff8",
   "metadata": {},
   "source": [
    "## 1) Get the Data\n"
   ]
  },
  {
   "cell_type": "markdown",
   "id": "754b4702",
   "metadata": {},
   "source": [
    "#### a ) Loading the Data from multi documents"
   ]
  },
  {
   "cell_type": "code",
   "execution_count": 2,
   "id": "00e8b7a4",
   "metadata": {},
   "outputs": [
    {
     "data": {
      "text/html": [
       "<div>\n",
       "<style scoped>\n",
       "    .dataframe tbody tr th:only-of-type {\n",
       "        vertical-align: middle;\n",
       "    }\n",
       "\n",
       "    .dataframe tbody tr th {\n",
       "        vertical-align: top;\n",
       "    }\n",
       "\n",
       "    .dataframe thead th {\n",
       "        text-align: right;\n",
       "    }\n",
       "</style>\n",
       "<table border=\"1\" class=\"dataframe\">\n",
       "  <thead>\n",
       "    <tr style=\"text-align: right;\">\n",
       "      <th></th>\n",
       "      <th>Article</th>\n",
       "      <th>Summary</th>\n",
       "    </tr>\n",
       "  </thead>\n",
       "  <tbody>\n",
       "    <tr>\n",
       "      <th>0</th>\n",
       "      <td>EU-US seeking deal on air dispute , The EU and...</td>\n",
       "      <td>Both sides hope to reach a negotiated deal ove...</td>\n",
       "    </tr>\n",
       "    <tr>\n",
       "      <th>1</th>\n",
       "      <td>Trade gap narrows as exports rise , The UK's t...</td>\n",
       "      <td>Overall UK exports - including both goods and ...</td>\n",
       "    </tr>\n",
       "    <tr>\n",
       "      <th>2</th>\n",
       "      <td>Economy 'strong' in election year , UK busines...</td>\n",
       "      <td>The BDO optimism index - a leading indicator o...</td>\n",
       "    </tr>\n",
       "    <tr>\n",
       "      <th>3</th>\n",
       "      <td>Brazil approves bankruptcy reform , A major re...</td>\n",
       "      <td>The new legislation changes this, giving prior...</td>\n",
       "    </tr>\n",
       "    <tr>\n",
       "      <th>4</th>\n",
       "      <td>Yangtze Electric's profits double , Yangtze El...</td>\n",
       "      <td>Yangtze Electric Power, the operator of China'...</td>\n",
       "    </tr>\n",
       "  </tbody>\n",
       "</table>\n",
       "</div>"
      ],
      "text/plain": [
       "                                             Article  \\\n",
       "0  EU-US seeking deal on air dispute , The EU and...   \n",
       "1  Trade gap narrows as exports rise , The UK's t...   \n",
       "2  Economy 'strong' in election year , UK busines...   \n",
       "3  Brazil approves bankruptcy reform , A major re...   \n",
       "4  Yangtze Electric's profits double , Yangtze El...   \n",
       "\n",
       "                                             Summary  \n",
       "0  Both sides hope to reach a negotiated deal ove...  \n",
       "1  Overall UK exports - including both goods and ...  \n",
       "2  The BDO optimism index - a leading indicator o...  \n",
       "3  The new legislation changes this, giving prior...  \n",
       "4  Yangtze Electric Power, the operator of China'...  "
      ]
     },
     "execution_count": 2,
     "metadata": {},
     "output_type": "execute_result"
    }
   ],
   "source": [
    "DATA_PATH=\"./dataset/BBC/BBC News Summary/\"\n",
    "newsDF=Article.loading(DATA_PATH)\n",
    "newsDF[['Article','Summary']].head()"
   ]
  },
  {
   "cell_type": "markdown",
   "id": "65564604",
   "metadata": {},
   "source": [
    "#### b) Extract text from URL"
   ]
  },
  {
   "cell_type": "code",
   "execution_count": 3,
   "id": "d5c91226",
   "metadata": {},
   "outputs": [
    {
     "data": {
      "text/plain": [
       "'There won’t be a chill down to your bones this Halloween in Orlando, unless you count the sweat dripping from your armpits.\\nHalloween temperatures are supposed to come near or tie the record for the hottest Halloween in Orlando, but the month of October has already beaten the record for the hottest October ever recorded in the City Beautiful, according to the National Weather Service.\\nThe record to beat was an average of 80.2 degrees; with two days remaining 2019′s October is on track to record 80.9 degrees, said NWS meteorologist Derrick Weitlich.\\n“Yeah with just two days left, there’s no way it won’t break the record. This October has been above normal,” Weitlich said.\\nDaytona and Vero Beach are also expected to hit record breaking months.\\nSo why is it so hot? Was Central Florida cursed by a coven of witches?\\nThe answer is less magical and more meteorological as a ridge, or an area of blocking high pressure, has been sitting over Florida preventing frontal passages of cooler air from entering, Weitlich said.\\n“That’s been the trend this month,” he said. “So while the Central U.S. gets colder temperatures, we’re getting warmer than normal.”\\nThe hottest Halloween on record came in 1992 when pumpkins wilted in the heat of 90 degrees. This Halloween is expected to hit a temperature of 89 degrees, but the possibility for hotter temperatures does exist, Weitlich said.\\nThis week’s forecast isn’t all heat though.\\nCooler temperatures are expected to start this weekend where the high is forecast to be in the upper 70s, and the low could be in the low 70s by Saturday morning.\\nSaturday night should see lows in the mid 60s, Weitlich said.\\nBut temperatures are expected to return to the 80s by Monday.\\n“We’ll get, at least, a taste of fall,” Weitlich said.'"
      ]
     },
     "execution_count": 3,
     "metadata": {},
     "output_type": "execute_result"
    }
   ],
   "source": [
    "#  Extract text from URL\n",
    "URL=\"https://assets.msn.com/labs/mind/AAJwoxD.html\"\n",
    "textFromUrl=Article.scraper(URL)\n",
    "textFromUrl"
   ]
  },
  {
   "cell_type": "markdown",
   "id": "215db880",
   "metadata": {},
   "source": [
    "## 2 ) Clean the Data"
   ]
  },
  {
   "cell_type": "code",
   "execution_count": 4,
   "id": "a83c8a2f",
   "metadata": {},
   "outputs": [
    {
     "name": "stdout",
     "output_type": "stream",
     "text": [
      "Article :\n",
      "\n",
      " the eu and us have agreed to begin talks on ending subsidies given to aircraft makers , eu trade commissioner peter mandelson has announced . , both sides hope to reach a negotiated deal over state aid received by european aircraft maker airbus and its us rival boeing , mr mandelson said . airbus and boeing accuse each other of benefiting from illegal subsidies . mr mandelson said the eu and us hoped to avoid having to resolve the dispute at the world trade organisation wto . , with this agreement the eu and us have confirmed their willingness to resolve the dispute which has arisen between them , mr mandelson said . i hope our negotiations in the next three months will lead to an agreement ending subsidies to development and production of large civil aircraft . last year , the us terminated an agreement with the eu , reached in 1992 , which limits the subsidies countries can hand over to civil aircraft makers . the us filed a complaint against brussels with the wto over state aid to airbus , prompting a retaliatory eu complaint over us support for boeing . however , both sides agreed to suspend their requests for wto arbitration at the beginning of december , to allow bilateral talks to continue . eads and bae systems , the european defence and aerospace firms which own airbus , welcomed mr mandelson's announcement . it has always been preferable that any differences between the us and europe on this matter be overcome through constructive discussion rather than through legal recourse , the companies said in a joint statement . , separately , the world's largest package delivery company , ups , said it had placed an order for 10 airbus a380 superjumbo freight carrying jets , with an option to buy 10 more of the triple decker aircraft . the us company said it needed to expand its air freight capacity following strong international growth , and would begin receiving deliveries of the a380s from 2009 . however , ups said it was cutting a previous order for smaller airbus a300s from 90 planes to 53 . so far , airbus has delivered 40 a300s to ups . airbus overtook boeing as the world's largest manufacturer of commercial airliners in 2003 . \n",
      " -------------------------------------------------------------------------------------------------------------------  Our Ref Summary :\n",
      "\n",
      " both sides hope to reach a negotiated deal over state aid received by european aircraft maker airbus and its us rival boeing , mr mandelson said . with this agreement the eu and us have confirmed their willingness to resolve the dispute which has arisen between them , mr mandelson saidthe us filed a complaint against brussels with the wto over state aid to airbus , prompting a retaliatory eu complaint over us support for boeingthe eu and us have agreed to begin talks on ending subsidies given to aircraft makers , eu trade commissioner peter mandelson has announcedmr mandelson said the eu and us hoped to avoid having to resolve the dispute at the world trade organisation wto . separately , the world's largest package delivery company , ups , said it had placed an order for 10 airbus a380 superjumbo freight carrying jets , with an option to buy 10 more of the triple decker aircrafthowever , ups said it was cutting a previous order for smaller airbus a300s from 90 planes to 53 .\n"
     ]
    }
   ],
   "source": [
    "article=Article.cleaningArticle(\"article\",newsDF['Article'][0])\n",
    "summary=Article.cleaningArticle(\"summary\",newsDF['Summary'][0])\n",
    "print(\"Article :\\n\\n\",article,\"\\n\",\"-\"*115,\" Our Ref Summary :\\n\\n\",summary)"
   ]
  },
  {
   "cell_type": "markdown",
   "id": "245b803e",
   "metadata": {},
   "source": [
    "# 3) Text Summarization"
   ]
  },
  {
   "cell_type": "markdown",
   "id": "71a45b59",
   "metadata": {},
   "source": [
    "### a)  Extractive"
   ]
  },
  {
   "cell_type": "markdown",
   "id": "cf9dd55b",
   "metadata": {},
   "source": [
    "####  I ) TextRank"
   ]
  },
  {
   "cell_type": "code",
   "execution_count": 5,
   "id": "4193c5aa",
   "metadata": {},
   "outputs": [],
   "source": [
    "#Applying TextRank summarization on data\n",
    "\n",
    "TextRankSummary=Summarizer.extracitve(article,TextRankSummarizer,3)"
   ]
  },
  {
   "cell_type": "code",
   "execution_count": 6,
   "id": "272d7801",
   "metadata": {},
   "outputs": [
    {
     "name": "stdout",
     "output_type": "stream",
     "text": [
      "The Whole Article : \n",
      "------------------\n",
      " the eu and us have agreed to begin talks on ending subsidies given to aircraft makers , eu trade commissioner peter mandelson has announced . , both sides hope to reach a negotiated deal over state aid received by european aircraft maker airbus and its us rival boeing , mr mandelson said . airbus and boeing accuse each other of benefiting from illegal subsidies . mr mandelson said the eu and us hoped to avoid having to resolve the dispute at the world trade organisation wto . , with this agreement the eu and us have confirmed their willingness to resolve the dispute which has arisen between them , mr mandelson said . i hope our negotiations in the next three months will lead to an agreement ending subsidies to development and production of large civil aircraft . last year , the us terminated an agreement with the eu , reached in 1992 , which limits the subsidies countries can hand over to civil aircraft makers . the us filed a complaint against brussels with the wto over state aid to airbus , prompting a retaliatory eu complaint over us support for boeing . however , both sides agreed to suspend their requests for wto arbitration at the beginning of december , to allow bilateral talks to continue . eads and bae systems , the european defence and aerospace firms which own airbus , welcomed mr mandelson's announcement . it has always been preferable that any differences between the us and europe on this matter be overcome through constructive discussion rather than through legal recourse , the companies said in a joint statement . , separately , the world's largest package delivery company , ups , said it had placed an order for 10 airbus a380 superjumbo freight carrying jets , with an option to buy 10 more of the triple decker aircraft . the us company said it needed to expand its air freight capacity following strong international growth , and would begin receiving deliveries of the a380s from 2009 . however , ups said it was cutting a previous order for smaller airbus a300s from 90 planes to 53 . so far , airbus has delivered 40 a300s to ups . airbus overtook boeing as the world's largest manufacturer of commercial airliners in 2003 .\n",
      "------------------------------------------------------------------------------------------------------------------\n",
      "Summary (TextRank) : \n",
      "------------------\n",
      " the eu and us have agreed to begin talks on ending subsidies given to aircraft makers , eu trade commissioner peter mandelson has announced . , both sides hope to reach a negotiated deal over state aid received by european aircraft maker airbus and its us rival boeing , mr mandelson said . , separately , the world's largest package delivery company , ups , said it had placed an order for 10 airbus a380 superjumbo freight carrying jets , with an option to buy 10 more of the triple decker aircraft .\n",
      "------------------------------------------------------------------------------------------------------------------\n",
      "Our Summary Ref : \n",
      "------------------\n",
      " both sides hope to reach a negotiated deal over state aid received by european aircraft maker airbus and its us rival boeing , mr mandelson said . with this agreement the eu and us have confirmed their willingness to resolve the dispute which has arisen between them , mr mandelson saidthe us filed a complaint against brussels with the wto over state aid to airbus , prompting a retaliatory eu complaint over us support for boeingthe eu and us have agreed to begin talks on ending subsidies given to aircraft makers , eu trade commissioner peter mandelson has announcedmr mandelson said the eu and us hoped to avoid having to resolve the dispute at the world trade organisation wto . separately , the world's largest package delivery company , ups , said it had placed an order for 10 airbus a380 superjumbo freight carrying jets , with an option to buy 10 more of the triple decker aircrafthowever , ups said it was cutting a previous order for smaller airbus a300s from 90 planes to 53 .\n"
     ]
    }
   ],
   "source": [
    "\n",
    "print(\"The Whole Article : \\n------------------\\n\",article)\n",
    "print(\"------------------------------------------------------------------------------------------------------------------\")\n",
    "print(\"Summary (TextRank) : \\n------------------\\n\",TextRankSummary)\n",
    "print(\"------------------------------------------------------------------------------------------------------------------\")\n",
    "print(\"Our Summary Ref : \\n------------------\\n\",summary)\n"
   ]
  },
  {
   "cell_type": "code",
   "execution_count": 7,
   "id": "db228014",
   "metadata": {},
   "outputs": [
    {
     "data": {
      "text/html": [
       "<div>\n",
       "<style scoped>\n",
       "    .dataframe tbody tr th:only-of-type {\n",
       "        vertical-align: middle;\n",
       "    }\n",
       "\n",
       "    .dataframe tbody tr th {\n",
       "        vertical-align: top;\n",
       "    }\n",
       "\n",
       "    .dataframe thead th {\n",
       "        text-align: right;\n",
       "    }\n",
       "</style>\n",
       "<table border=\"1\" class=\"dataframe\">\n",
       "  <thead>\n",
       "    <tr style=\"text-align: right;\">\n",
       "      <th></th>\n",
       "      <th>rouge-1</th>\n",
       "      <th>rouge-2</th>\n",
       "      <th>rouge-l</th>\n",
       "    </tr>\n",
       "  </thead>\n",
       "  <tbody>\n",
       "    <tr>\n",
       "      <th>r</th>\n",
       "      <td>0.638095</td>\n",
       "      <td>0.532051</td>\n",
       "      <td>0.638095</td>\n",
       "    </tr>\n",
       "    <tr>\n",
       "      <th>p</th>\n",
       "      <td>0.985294</td>\n",
       "      <td>0.932584</td>\n",
       "      <td>0.985294</td>\n",
       "    </tr>\n",
       "    <tr>\n",
       "      <th>f</th>\n",
       "      <td>0.774566</td>\n",
       "      <td>0.677551</td>\n",
       "      <td>0.774566</td>\n",
       "    </tr>\n",
       "  </tbody>\n",
       "</table>\n",
       "</div>"
      ],
      "text/plain": [
       "    rouge-1   rouge-2   rouge-l\n",
       "r  0.638095  0.532051  0.638095\n",
       "p  0.985294  0.932584  0.985294\n",
       "f  0.774566  0.677551  0.774566"
      ]
     },
     "execution_count": 7,
     "metadata": {},
     "output_type": "execute_result"
    }
   ],
   "source": [
    "pd.DataFrame(Summarizer.summaryScore(TextRankSummary,summary,Avg=True))"
   ]
  },
  {
   "cell_type": "markdown",
   "id": "a36d401d",
   "metadata": {},
   "source": [
    "####  II ) LexRank"
   ]
  },
  {
   "cell_type": "code",
   "execution_count": 8,
   "id": "577c0a43",
   "metadata": {},
   "outputs": [],
   "source": [
    "#Applying LexRank on data\n",
    "LexRankSummary=Summarizer.extracitve(article,LexRankSummarizer,3)"
   ]
  },
  {
   "cell_type": "code",
   "execution_count": 9,
   "id": "bc0bcc67",
   "metadata": {},
   "outputs": [
    {
     "name": "stdout",
     "output_type": "stream",
     "text": [
      "The Whole Article : \n",
      "------------------\n",
      " the eu and us have agreed to begin talks on ending subsidies given to aircraft makers , eu trade commissioner peter mandelson has announced . , both sides hope to reach a negotiated deal over state aid received by european aircraft maker airbus and its us rival boeing , mr mandelson said . airbus and boeing accuse each other of benefiting from illegal subsidies . mr mandelson said the eu and us hoped to avoid having to resolve the dispute at the world trade organisation wto . , with this agreement the eu and us have confirmed their willingness to resolve the dispute which has arisen between them , mr mandelson said . i hope our negotiations in the next three months will lead to an agreement ending subsidies to development and production of large civil aircraft . last year , the us terminated an agreement with the eu , reached in 1992 , which limits the subsidies countries can hand over to civil aircraft makers . the us filed a complaint against brussels with the wto over state aid to airbus , prompting a retaliatory eu complaint over us support for boeing . however , both sides agreed to suspend their requests for wto arbitration at the beginning of december , to allow bilateral talks to continue . eads and bae systems , the european defence and aerospace firms which own airbus , welcomed mr mandelson's announcement . it has always been preferable that any differences between the us and europe on this matter be overcome through constructive discussion rather than through legal recourse , the companies said in a joint statement . , separately , the world's largest package delivery company , ups , said it had placed an order for 10 airbus a380 superjumbo freight carrying jets , with an option to buy 10 more of the triple decker aircraft . the us company said it needed to expand its air freight capacity following strong international growth , and would begin receiving deliveries of the a380s from 2009 . however , ups said it was cutting a previous order for smaller airbus a300s from 90 planes to 53 . so far , airbus has delivered 40 a300s to ups . airbus overtook boeing as the world's largest manufacturer of commercial airliners in 2003 .\n",
      "------------------------------------------------------------------------------------------------------------------\n",
      "Summary (LexRank) : \n",
      "------------------\n",
      " the eu and us have agreed to begin talks on ending subsidies given to aircraft makers , eu trade commissioner peter mandelson has announced . , both sides hope to reach a negotiated deal over state aid received by european aircraft maker airbus and its us rival boeing , mr mandelson said . , separately , the world's largest package delivery company , ups , said it had placed an order for 10 airbus a380 superjumbo freight carrying jets , with an option to buy 10 more of the triple decker aircraft .\n",
      "------------------------------------------------------------------------------------------------------------------\n",
      "Our Summary Ref : \n",
      "------------------\n",
      " both sides hope to reach a negotiated deal over state aid received by european aircraft maker airbus and its us rival boeing , mr mandelson said . with this agreement the eu and us have confirmed their willingness to resolve the dispute which has arisen between them , mr mandelson saidthe us filed a complaint against brussels with the wto over state aid to airbus , prompting a retaliatory eu complaint over us support for boeingthe eu and us have agreed to begin talks on ending subsidies given to aircraft makers , eu trade commissioner peter mandelson has announcedmr mandelson said the eu and us hoped to avoid having to resolve the dispute at the world trade organisation wto . separately , the world's largest package delivery company , ups , said it had placed an order for 10 airbus a380 superjumbo freight carrying jets , with an option to buy 10 more of the triple decker aircrafthowever , ups said it was cutting a previous order for smaller airbus a300s from 90 planes to 53 .\n"
     ]
    }
   ],
   "source": [
    "\n",
    "print(\"The Whole Article : \\n------------------\\n\",article)\n",
    "print(\"------------------------------------------------------------------------------------------------------------------\")\n",
    "print(\"Summary (LexRank) : \\n------------------\\n\",LexRankSummary)\n",
    "print(\"------------------------------------------------------------------------------------------------------------------\")\n",
    "print(\"Our Summary Ref : \\n------------------\\n\",summary)\n"
   ]
  },
  {
   "cell_type": "code",
   "execution_count": 10,
   "id": "fbc4e15d",
   "metadata": {},
   "outputs": [
    {
     "data": {
      "text/html": [
       "<div>\n",
       "<style scoped>\n",
       "    .dataframe tbody tr th:only-of-type {\n",
       "        vertical-align: middle;\n",
       "    }\n",
       "\n",
       "    .dataframe tbody tr th {\n",
       "        vertical-align: top;\n",
       "    }\n",
       "\n",
       "    .dataframe thead th {\n",
       "        text-align: right;\n",
       "    }\n",
       "</style>\n",
       "<table border=\"1\" class=\"dataframe\">\n",
       "  <thead>\n",
       "    <tr style=\"text-align: right;\">\n",
       "      <th></th>\n",
       "      <th>rouge-1</th>\n",
       "      <th>rouge-2</th>\n",
       "      <th>rouge-l</th>\n",
       "    </tr>\n",
       "  </thead>\n",
       "  <tbody>\n",
       "    <tr>\n",
       "      <th>r</th>\n",
       "      <td>0.961905</td>\n",
       "      <td>0.935897</td>\n",
       "      <td>0.961905</td>\n",
       "    </tr>\n",
       "    <tr>\n",
       "      <th>p</th>\n",
       "      <td>0.528796</td>\n",
       "      <td>0.447853</td>\n",
       "      <td>0.528796</td>\n",
       "    </tr>\n",
       "    <tr>\n",
       "      <th>f</th>\n",
       "      <td>0.682432</td>\n",
       "      <td>0.605809</td>\n",
       "      <td>0.682432</td>\n",
       "    </tr>\n",
       "  </tbody>\n",
       "</table>\n",
       "</div>"
      ],
      "text/plain": [
       "    rouge-1   rouge-2   rouge-l\n",
       "r  0.961905  0.935897  0.961905\n",
       "p  0.528796  0.447853  0.528796\n",
       "f  0.682432  0.605809  0.682432"
      ]
     },
     "execution_count": 10,
     "metadata": {},
     "output_type": "execute_result"
    }
   ],
   "source": [
    "pd.DataFrame(Summarizer.summaryScore(article,summary, Avg=True))"
   ]
  },
  {
   "cell_type": "markdown",
   "id": "399e0806",
   "metadata": {},
   "source": [
    "## b) Abstractive "
   ]
  },
  {
   "cell_type": "markdown",
   "id": "6c6eeb34",
   "metadata": {},
   "source": [
    "####  BART Transformer"
   ]
  },
  {
   "cell_type": "code",
   "execution_count": 11,
   "id": "b0a104ba",
   "metadata": {},
   "outputs": [],
   "source": [
    "tokenizer = AutoTokenizer.from_pretrained(\"facebook/bart-large-xsum\")\n",
    "model = AutoModelForSeq2SeqLM.from_pretrained(\"facebook/bart-large-xsum\")"
   ]
  },
  {
   "cell_type": "code",
   "execution_count": 12,
   "id": "86695fe5",
   "metadata": {},
   "outputs": [
    {
     "name": "stderr",
     "output_type": "stream",
     "text": [
      "/home/mo/anaconda3/lib/python3.7/site-packages/transformers/generation_utils.py:1648: UserWarning: __floordiv__ is deprecated, and its behavior will change in a future version of pytorch. It currently rounds toward 0 (like the 'trunc' function NOT 'floor'). This results in incorrect rounding for negative values. To keep the current behavior, use torch.div(a, b, rounding_mode='trunc'), or for actual floor division, use torch.div(a, b, rounding_mode='floor').\n",
      "  next_indices = next_tokens // vocab_size\n"
     ]
    }
   ],
   "source": [
    "BARTSummary=Summarizer.abstractive(article,tokenizer,model)"
   ]
  },
  {
   "cell_type": "code",
   "execution_count": 13,
   "id": "975b2372",
   "metadata": {},
   "outputs": [
    {
     "name": "stdout",
     "output_type": "stream",
     "text": [
      "The Whole Article : \n",
      "------------------\n",
      " the eu and us have agreed to begin talks on ending subsidies given to aircraft makers , eu trade commissioner peter mandelson has announced . , both sides hope to reach a negotiated deal over state aid received by european aircraft maker airbus and its us rival boeing , mr mandelson said . airbus and boeing accuse each other of benefiting from illegal subsidies . mr mandelson said the eu and us hoped to avoid having to resolve the dispute at the world trade organisation wto . , with this agreement the eu and us have confirmed their willingness to resolve the dispute which has arisen between them , mr mandelson said . i hope our negotiations in the next three months will lead to an agreement ending subsidies to development and production of large civil aircraft . last year , the us terminated an agreement with the eu , reached in 1992 , which limits the subsidies countries can hand over to civil aircraft makers . the us filed a complaint against brussels with the wto over state aid to airbus , prompting a retaliatory eu complaint over us support for boeing . however , both sides agreed to suspend their requests for wto arbitration at the beginning of december , to allow bilateral talks to continue . eads and bae systems , the european defence and aerospace firms which own airbus , welcomed mr mandelson's announcement . it has always been preferable that any differences between the us and europe on this matter be overcome through constructive discussion rather than through legal recourse , the companies said in a joint statement . , separately , the world's largest package delivery company , ups , said it had placed an order for 10 airbus a380 superjumbo freight carrying jets , with an option to buy 10 more of the triple decker aircraft . the us company said it needed to expand its air freight capacity following strong international growth , and would begin receiving deliveries of the a380s from 2009 . however , ups said it was cutting a previous order for smaller airbus a300s from 90 planes to 53 . so far , airbus has delivered 40 a300s to ups . airbus overtook boeing as the world's largest manufacturer of commercial airliners in 2003 .\n",
      "------------------------------------------------------------------------------------------------------------------\n",
      "BARTSummary : \n",
      "------------------\n",
      " The European Union and the United States have agreed to begin talks in the next three months to resolve a dispute over state aid to civil aircraft makers. the eu and us hope to reach a deal by the end of the year, the EU trade commissioner has said. the EU and the us have announced the start of talks on ending subsidies for civil aircraft maker airbus and its us rival, boeing, in the coming months. the two sides have said they will suspend their requests for arbitration at the World Trade Organisation ( wto) at the beginning of december. the European Commission says.\n",
      "------------------------------------------------------------------------------------------------------------------\n",
      "Our Summary Ref : \n",
      "------------------\n",
      " both sides hope to reach a negotiated deal over state aid received by european aircraft maker airbus and its us rival boeing , mr mandelson said . with this agreement the eu and us have confirmed their willingness to resolve the dispute which has arisen between them , mr mandelson saidthe us filed a complaint against brussels with the wto over state aid to airbus , prompting a retaliatory eu complaint over us support for boeingthe eu and us have agreed to begin talks on ending subsidies given to aircraft makers , eu trade commissioner peter mandelson has announcedmr mandelson said the eu and us hoped to avoid having to resolve the dispute at the world trade organisation wto . separately , the world's largest package delivery company , ups , said it had placed an order for 10 airbus a380 superjumbo freight carrying jets , with an option to buy 10 more of the triple decker aircrafthowever , ups said it was cutting a previous order for smaller airbus a300s from 90 planes to 53 .\n"
     ]
    }
   ],
   "source": [
    "\n",
    "print(\"The Whole Article : \\n------------------\\n\",article)\n",
    "print(\"------------------------------------------------------------------------------------------------------------------\")\n",
    "print(\"BARTSummary : \\n------------------\\n\",BARTSummary)\n",
    "print(\"------------------------------------------------------------------------------------------------------------------\")\n",
    "print(\"Our Summary Ref : \\n------------------\\n\",summary)\n"
   ]
  },
  {
   "cell_type": "code",
   "execution_count": 14,
   "id": "3ce38055",
   "metadata": {},
   "outputs": [
    {
     "data": {
      "text/html": [
       "<div>\n",
       "<style scoped>\n",
       "    .dataframe tbody tr th:only-of-type {\n",
       "        vertical-align: middle;\n",
       "    }\n",
       "\n",
       "    .dataframe tbody tr th {\n",
       "        vertical-align: top;\n",
       "    }\n",
       "\n",
       "    .dataframe thead th {\n",
       "        text-align: right;\n",
       "    }\n",
       "</style>\n",
       "<table border=\"1\" class=\"dataframe\">\n",
       "  <thead>\n",
       "    <tr style=\"text-align: right;\">\n",
       "      <th></th>\n",
       "      <th>rouge-1</th>\n",
       "      <th>rouge-2</th>\n",
       "      <th>rouge-l</th>\n",
       "    </tr>\n",
       "  </thead>\n",
       "  <tbody>\n",
       "    <tr>\n",
       "      <th>r</th>\n",
       "      <td>0.342857</td>\n",
       "      <td>0.179487</td>\n",
       "      <td>0.333333</td>\n",
       "    </tr>\n",
       "    <tr>\n",
       "      <th>p</th>\n",
       "      <td>0.521739</td>\n",
       "      <td>0.282828</td>\n",
       "      <td>0.507246</td>\n",
       "    </tr>\n",
       "    <tr>\n",
       "      <th>f</th>\n",
       "      <td>0.413793</td>\n",
       "      <td>0.219608</td>\n",
       "      <td>0.402299</td>\n",
       "    </tr>\n",
       "  </tbody>\n",
       "</table>\n",
       "</div>"
      ],
      "text/plain": [
       "    rouge-1   rouge-2   rouge-l\n",
       "r  0.342857  0.179487  0.333333\n",
       "p  0.521739  0.282828  0.507246\n",
       "f  0.413793  0.219608  0.402299"
      ]
     },
     "execution_count": 14,
     "metadata": {},
     "output_type": "execute_result"
    }
   ],
   "source": [
    "pd.DataFrame(Summarizer.summaryScore(BARTSummary,summary, Avg=True))\n"
   ]
  },
  {
   "cell_type": "code",
   "execution_count": null,
   "id": "0d1d14ba",
   "metadata": {},
   "outputs": [],
   "source": []
  }
 ],
 "metadata": {
  "kernelspec": {
   "display_name": "Python 3",
   "language": "python",
   "name": "python3"
  },
  "language_info": {
   "codemirror_mode": {
    "name": "ipython",
    "version": 3
   },
   "file_extension": ".py",
   "mimetype": "text/x-python",
   "name": "python",
   "nbconvert_exporter": "python",
   "pygments_lexer": "ipython3",
   "version": "3.7.11"
  }
 },
 "nbformat": 4,
 "nbformat_minor": 5
}
