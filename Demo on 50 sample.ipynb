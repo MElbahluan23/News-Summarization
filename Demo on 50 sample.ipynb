{
 "cells": [
  {
   "cell_type": "markdown",
   "id": "bd0c8a34",
   "metadata": {},
   "source": [
    "# News Summarization Approaches for NLP"
   ]
  },
  {
   "cell_type": "markdown",
   "id": "3ecda095",
   "metadata": {},
   "source": [
    "Text summarization in NLP is the process of summarizing the information in large texts for quicker consumption. In this notebook, I will walk you through the traditional extractive as well as the advanced generative methods to implement News summarization.\n",
    "\n",
    "When you open news sites, do you just start reading every news article? Probably not. We typically glance the short news summary and then read more details if interested. Short, informative summaries of the news is now everywhere like magazines, news aggregator apps, research sites, etc.\n",
    "It is essential for the summary to be a fluent, continuous and depict the significant.\n",
    "\n",
    "Text summarization methods can be grouped into two main categories: \n",
    "- Extractive \n",
    "- Abstractive \n",
    "\n",
    "\n",
    "\n"
   ]
  },
  {
   "cell_type": "code",
   "execution_count": 1,
   "id": "19bc6c0d",
   "metadata": {},
   "outputs": [],
   "source": [
    "#import necessary libraries\n",
    "## for uploadinf data\n",
    "import pandas as pd\n",
    "import os\n",
    "from pathlib import Path\n",
    "\n",
    "\n",
    "## for uploadinf data\n",
    "import pandas as pd\n",
    "import os\n",
    "import numpy as np\n",
    "\n",
    "\n",
    "## for plotting\n",
    "import matplotlib.pyplot as plt\n",
    "import seaborn as sns\n",
    "\n",
    "## import necessary nlp libraries\n",
    "import re\n",
    "import nltk\n",
    "from nltk.corpus import stopwords\n",
    "from nltk.stem import WordNetLemmatizer\n",
    "lem = WordNetLemmatizer()\n",
    "from nltk import sent_tokenize\n",
    "\n",
    "\n",
    "from sumy.parsers.plaintext import PlaintextParser\n",
    "from sumy.nlp.tokenizers import Tokenizer\n",
    "\n",
    "# TextRank \n",
    "from sumy.summarizers.text_rank import TextRankSummarizer\n",
    "\n",
    "# LexRank\n",
    "from sumy.summarizers.lex_rank import LexRankSummarizer\n",
    "\n",
    "#BART \n",
    "from transformers import BartTokenizer, BartForConditionalGeneration\n",
    "from transformers import AutoTokenizer, AutoModelForSeq2SeqLM\n",
    "\n",
    "import torch\n",
    "\n",
    "# Evaluation\n",
    "from rouge import Rouge\n",
    "rouge = Rouge()\n"
   ]
  },
  {
   "cell_type": "code",
   "execution_count": 2,
   "id": "3161b554",
   "metadata": {},
   "outputs": [],
   "source": [
    "from app import Summarizer\n",
    "from utils import Article"
   ]
  },
  {
   "cell_type": "markdown",
   "id": "bc86ec5a",
   "metadata": {},
   "source": [
    "## Get the Data\n"
   ]
  },
  {
   "cell_type": "code",
   "execution_count": 3,
   "id": "00e8b7a4",
   "metadata": {},
   "outputs": [
    {
     "data": {
      "text/html": [
       "<div>\n",
       "<style scoped>\n",
       "    .dataframe tbody tr th:only-of-type {\n",
       "        vertical-align: middle;\n",
       "    }\n",
       "\n",
       "    .dataframe tbody tr th {\n",
       "        vertical-align: top;\n",
       "    }\n",
       "\n",
       "    .dataframe thead th {\n",
       "        text-align: right;\n",
       "    }\n",
       "</style>\n",
       "<table border=\"1\" class=\"dataframe\">\n",
       "  <thead>\n",
       "    <tr style=\"text-align: right;\">\n",
       "      <th></th>\n",
       "      <th>Category</th>\n",
       "      <th>ID</th>\n",
       "      <th>Article</th>\n",
       "      <th>Summary</th>\n",
       "    </tr>\n",
       "  </thead>\n",
       "  <tbody>\n",
       "    <tr>\n",
       "      <th>0</th>\n",
       "      <td>business</td>\n",
       "      <td>424</td>\n",
       "      <td>EU-US seeking deal on air dispute , The EU and...</td>\n",
       "      <td>Both sides hope to reach a negotiated deal ove...</td>\n",
       "    </tr>\n",
       "    <tr>\n",
       "      <th>1</th>\n",
       "      <td>business</td>\n",
       "      <td>441</td>\n",
       "      <td>Trade gap narrows as exports rise , The UK's t...</td>\n",
       "      <td>Overall UK exports - including both goods and ...</td>\n",
       "    </tr>\n",
       "    <tr>\n",
       "      <th>2</th>\n",
       "      <td>business</td>\n",
       "      <td>214</td>\n",
       "      <td>Economy 'strong' in election year , UK busines...</td>\n",
       "      <td>The BDO optimism index - a leading indicator o...</td>\n",
       "    </tr>\n",
       "    <tr>\n",
       "      <th>3</th>\n",
       "      <td>business</td>\n",
       "      <td>305</td>\n",
       "      <td>Brazil approves bankruptcy reform , A major re...</td>\n",
       "      <td>The new legislation changes this, giving prior...</td>\n",
       "    </tr>\n",
       "    <tr>\n",
       "      <th>4</th>\n",
       "      <td>business</td>\n",
       "      <td>174</td>\n",
       "      <td>Yangtze Electric's profits double , Yangtze El...</td>\n",
       "      <td>Yangtze Electric Power, the operator of China'...</td>\n",
       "    </tr>\n",
       "  </tbody>\n",
       "</table>\n",
       "</div>"
      ],
      "text/plain": [
       "   Category   ID                                            Article  \\\n",
       "0  business  424  EU-US seeking deal on air dispute , The EU and...   \n",
       "1  business  441  Trade gap narrows as exports rise , The UK's t...   \n",
       "2  business  214  Economy 'strong' in election year , UK busines...   \n",
       "3  business  305  Brazil approves bankruptcy reform , A major re...   \n",
       "4  business  174  Yangtze Electric's profits double , Yangtze El...   \n",
       "\n",
       "                                             Summary  \n",
       "0  Both sides hope to reach a negotiated deal ove...  \n",
       "1  Overall UK exports - including both goods and ...  \n",
       "2  The BDO optimism index - a leading indicator o...  \n",
       "3  The new legislation changes this, giving prior...  \n",
       "4  Yangtze Electric Power, the operator of China'...  "
      ]
     },
     "execution_count": 3,
     "metadata": {},
     "output_type": "execute_result"
    }
   ],
   "source": [
    "DATA_PATH=\"./dataset/BBC/BBC News Summary/\"\n",
    "newsDF=Article.loading(DATA_PATH)\n",
    "newsDF.head()"
   ]
  },
  {
   "cell_type": "code",
   "execution_count": 4,
   "id": "c1e4d567",
   "metadata": {},
   "outputs": [],
   "source": [
    "newsDF.to_csv(\"BBCNewDF.csv\")"
   ]
  },
  {
   "cell_type": "markdown",
   "id": "215db880",
   "metadata": {},
   "source": [
    "# Clean the Data"
   ]
  },
  {
   "cell_type": "markdown",
   "id": "3b452f36",
   "metadata": {},
   "source": [
    "Removing unnecessary text. For Example:\n",
    "- CURRENCIES\n",
    "- EMAILS\n",
    "- CONTRACTIONS\n",
    "\n",
    "        Contraction: changing short word to long. For Example: “ain’t” = “is not”; “can’t” = “cannot”.\n",
    "        \n",
    "Then cleaning and normilzing the text"
   ]
  },
  {
   "cell_type": "code",
   "execution_count": 4,
   "id": "a83c8a2f",
   "metadata": {},
   "outputs": [],
   "source": [
    "newsDF[\"Cleaned_Article\"] =newsDF['Article'].apply(lambda x:Article.cleaningArticle(x)) \n",
    "newsDF[\"Cleaned_Summary\"] =newsDF['Summary'].apply(lambda x:Article.cleaningSummary(x)) \n"
   ]
  },
  {
   "cell_type": "code",
   "execution_count": 5,
   "id": "e9d79111",
   "metadata": {},
   "outputs": [
    {
     "data": {
      "text/html": [
       "<div>\n",
       "<style scoped>\n",
       "    .dataframe tbody tr th:only-of-type {\n",
       "        vertical-align: middle;\n",
       "    }\n",
       "\n",
       "    .dataframe tbody tr th {\n",
       "        vertical-align: top;\n",
       "    }\n",
       "\n",
       "    .dataframe thead th {\n",
       "        text-align: right;\n",
       "    }\n",
       "</style>\n",
       "<table border=\"1\" class=\"dataframe\">\n",
       "  <thead>\n",
       "    <tr style=\"text-align: right;\">\n",
       "      <th></th>\n",
       "      <th>Category</th>\n",
       "      <th>ID</th>\n",
       "      <th>Article</th>\n",
       "      <th>Summary</th>\n",
       "      <th>Cleaned_Article</th>\n",
       "      <th>Cleaned_Summary</th>\n",
       "    </tr>\n",
       "  </thead>\n",
       "  <tbody>\n",
       "    <tr>\n",
       "      <th>0</th>\n",
       "      <td>business</td>\n",
       "      <td>424</td>\n",
       "      <td>EU-US seeking deal on air dispute , The EU and...</td>\n",
       "      <td>Both sides hope to reach a negotiated deal ove...</td>\n",
       "      <td>the eu and us have agreed to begin talks on en...</td>\n",
       "      <td>both sides hope to reach a negotiated deal ove...</td>\n",
       "    </tr>\n",
       "    <tr>\n",
       "      <th>1</th>\n",
       "      <td>business</td>\n",
       "      <td>441</td>\n",
       "      <td>Trade gap narrows as exports rise , The UK's t...</td>\n",
       "      <td>Overall UK exports - including both goods and ...</td>\n",
       "      <td>the uk's trade gap narrowed in november , help...</td>\n",
       "      <td>overall uk exports including both goods and se...</td>\n",
       "    </tr>\n",
       "    <tr>\n",
       "      <th>2</th>\n",
       "      <td>business</td>\n",
       "      <td>214</td>\n",
       "      <td>Economy 'strong' in election year , UK busines...</td>\n",
       "      <td>The BDO optimism index - a leading indicator o...</td>\n",
       "      <td>uk businesses are set to prosper during the ne...</td>\n",
       "      <td>the bdo optimism index a leading indicator of ...</td>\n",
       "    </tr>\n",
       "    <tr>\n",
       "      <th>3</th>\n",
       "      <td>business</td>\n",
       "      <td>305</td>\n",
       "      <td>Brazil approves bankruptcy reform , A major re...</td>\n",
       "      <td>The new legislation changes this, giving prior...</td>\n",
       "      <td>a major reform of brazil's bankruptcy laws has...</td>\n",
       "      <td>the new legislation changes this , giving prio...</td>\n",
       "    </tr>\n",
       "    <tr>\n",
       "      <th>4</th>\n",
       "      <td>business</td>\n",
       "      <td>174</td>\n",
       "      <td>Yangtze Electric's profits double , Yangtze El...</td>\n",
       "      <td>Yangtze Electric Power, the operator of China'...</td>\n",
       "      <td>yangtze electric power , the operator of china...</td>\n",
       "      <td>yangtze electric power , the operator of china...</td>\n",
       "    </tr>\n",
       "  </tbody>\n",
       "</table>\n",
       "</div>"
      ],
      "text/plain": [
       "   Category   ID                                            Article  \\\n",
       "0  business  424  EU-US seeking deal on air dispute , The EU and...   \n",
       "1  business  441  Trade gap narrows as exports rise , The UK's t...   \n",
       "2  business  214  Economy 'strong' in election year , UK busines...   \n",
       "3  business  305  Brazil approves bankruptcy reform , A major re...   \n",
       "4  business  174  Yangtze Electric's profits double , Yangtze El...   \n",
       "\n",
       "                                             Summary  \\\n",
       "0  Both sides hope to reach a negotiated deal ove...   \n",
       "1  Overall UK exports - including both goods and ...   \n",
       "2  The BDO optimism index - a leading indicator o...   \n",
       "3  The new legislation changes this, giving prior...   \n",
       "4  Yangtze Electric Power, the operator of China'...   \n",
       "\n",
       "                                     Cleaned_Article  \\\n",
       "0  the eu and us have agreed to begin talks on en...   \n",
       "1  the uk's trade gap narrowed in november , help...   \n",
       "2  uk businesses are set to prosper during the ne...   \n",
       "3  a major reform of brazil's bankruptcy laws has...   \n",
       "4  yangtze electric power , the operator of china...   \n",
       "\n",
       "                                     Cleaned_Summary  \n",
       "0  both sides hope to reach a negotiated deal ove...  \n",
       "1  overall uk exports including both goods and se...  \n",
       "2  the bdo optimism index a leading indicator of ...  \n",
       "3  the new legislation changes this , giving prio...  \n",
       "4  yangtze electric power , the operator of china...  "
      ]
     },
     "execution_count": 5,
     "metadata": {},
     "output_type": "execute_result"
    }
   ],
   "source": [
    "newsDF.head()"
   ]
  },
  {
   "cell_type": "markdown",
   "id": "2a481156",
   "metadata": {},
   "source": [
    "# Plotting Words Distribution"
   ]
  },
  {
   "cell_type": "markdown",
   "id": "395e5467",
   "metadata": {},
   "source": [
    "#### Article"
   ]
  },
  {
   "cell_type": "code",
   "execution_count": 6,
   "id": "aa7b92f2",
   "metadata": {},
   "outputs": [
    {
     "data": {
      "image/png": "[encoded data removed]",
      "text/plain": [
       "<Figure size 720x432 with 1 Axes>"
      ]
     },
     "metadata": {
      "needs_background": "light"
     },
     "output_type": "display_data"
    }
   ],
   "source": [
    "articles = newsDF['Article'].to_list()\n",
    "newsDF['Article_len'] = newsDF['Article'].apply(lambda x: len(re.findall(\"\\w+\",x)))\n",
    "plt.figure(figsize=(10,6))\n",
    "plt.xlim([0,1200]) \n",
    "sns.histplot(data=newsDF, x='Article_len')\n",
    "plt.show()"
   ]
  },
  {
   "cell_type": "markdown",
   "id": "70d75ef2",
   "metadata": {},
   "source": [
    "#### Summary"
   ]
  },
  {
   "cell_type": "code",
   "execution_count": 7,
   "id": "152f20a0",
   "metadata": {},
   "outputs": [
    {
     "data": {
      "image/png": "[encoded data removed]",
      "text/plain": [
       "<Figure size 720x432 with 1 Axes>"
      ]
     },
     "metadata": {
      "needs_background": "light"
     },
     "output_type": "display_data"
    }
   ],
   "source": [
    "articles = newsDF['Summary'].to_list()\n",
    "newsDF['Summary_len'] = newsDF['Summary'].apply(lambda x: len(re.findall(\"\\w+\",x)))\n",
    "plt.figure(figsize=(10,6))\n",
    "plt.xlim([0,650]) \n",
    "sns.histplot(data=newsDF, x='Summary_len')\n",
    "plt.show()"
   ]
  },
  {
   "cell_type": "markdown",
   "id": "245b803e",
   "metadata": {},
   "source": [
    "# Extractive Text Summarization"
   ]
  },
  {
   "cell_type": "markdown",
   "id": "d5fafa1b",
   "metadata": {},
   "source": [
    " It is the traditional method developed first. The main objective is to identify the significant sentences of the text and add them to the summary. You need to note that the summary obtained contains exact sentences from the original text."
   ]
  },
  {
   "cell_type": "markdown",
   "id": "71a45b59",
   "metadata": {},
   "source": [
    "In this section we will discuss two extractive methods:\n",
    " - TextRank \n",
    " - LexRank"
   ]
  },
  {
   "cell_type": "markdown",
   "id": "cf9dd55b",
   "metadata": {},
   "source": [
    "## TextRank"
   ]
  },
  {
   "cell_type": "markdown",
   "id": "258fac37",
   "metadata": {},
   "source": [
    "TextRank is an extractive summarization technique. It is based on the concept that words which occur more frequently are significant. Hence , the sentences containing highly frequent words are important.\n",
    "\n",
    "Based on this , the algorithm assigns scores to each sentence in the text . The top-ranked sentences make it to the summary."
   ]
  },
  {
   "cell_type": "markdown",
   "id": "d278ffed",
   "metadata": {},
   "source": [
    "After importing the sumy package, the first step is to import TextRankSummarizer from sumy.summarizers.text_rank. It is an in-built model that implements TextRank."
   ]
  },
  {
   "cell_type": "markdown",
   "id": "3730fb3d",
   "metadata": {},
   "source": [
    "Next, pass the text corpus as input to summarize function"
   ]
  },
  {
   "cell_type": "markdown",
   "id": "4b461c19",
   "metadata": {},
   "source": [
    "We can decide the number of sentences you want in the summary through parameter sentences_count.\n",
    "We can change the default parameters of the summarize function according to your requirements."
   ]
  },
  {
   "cell_type": "code",
   "execution_count": 8,
   "id": "4193c5aa",
   "metadata": {},
   "outputs": [],
   "source": [
    "#Applying TextRank summarization on data\n",
    "newsDF['Summary (TextRank)'] = newsDF[\"Cleaned_Article\"][:50].apply(lambda x:Summarizer.extracitve(x,TextRankSummarizer,3)) \n"
   ]
  },
  {
   "cell_type": "code",
   "execution_count": 10,
   "id": "272d7801",
   "metadata": {},
   "outputs": [
    {
     "name": "stdout",
     "output_type": "stream",
     "text": [
      "The Whole Article : \n",
      "------------------\n",
      " australia is raising its benchmark interest rate to its highest level in four years despite signs of a slowdown in the country's economy . , the reserve bank of australia lifted interest rates 025 % to 55 % , their first upwards move in more than a year . however , shortly after the bank made its decision , new figures showed a fall in economic growth in the last quarter . the bank said it had acted to curb inflation but the move was criticised by some analysts . , the rate hike was the first since december 2003 and had been well flagged in advance . however , opposition parties and some analysts said the move was ill timed given data showing the australian economy grew just 01 % between october and december and 15 % on an annual basis . , the figures , representing a decline from the 02 % growth in gdp seen between july and september , were below market expectations . consumer spending remains strong , however , and the bank is concerned about growing inflationary pressures . over recent months it has become increasingly clear that remaining spare capacity in the labour and goods markets is becoming rather limited , said ian macfarlane , governor of the reserve bank . , at 26 % , inflation remains within the bank's 2 3 % target range . however , exports declined in the second half of 2004 , fuelling a rise in the country's current account deficit the difference in the value of imports compared to exports to a record australian dollar 294bn . the australian government said the economy remained strong with unemployment at a near 30 year low . the economy has been strong and it is properly moderating but it does not look to me like it is slowing in any unreasonable way , said treasurer peter costello . stock markets had factored in the likelihood of a rate rise but analysts still expressed concern about the strength of the economy . that 15 % annual growth rate is the lowest we have seen since the post election slump we saw back in 2000 1 , said michael blythe , chief economist at the commonwealth bank of australia . this suggests the economy really did slow very sharply in the second half of 2004 .\n",
      "------------------------------------------------------------------------------------------------------------------\n",
      "Summary (TextRank) : \n",
      "------------------\n",
      " , the reserve bank of australia lifted interest rates 025 % to 55 % , their first upwards move in more than a year . however , opposition parties and some analysts said the move was ill timed given data showing the australian economy grew just 01 % between october and december and 15 % on an annual basis . that 15 % annual growth rate is the lowest we have seen since the post election slump we saw back in 2000 1 , said michael blythe , chief economist at the commonwealth bank of australia .\n",
      "------------------------------------------------------------------------------------------------------------------\n",
      "Our Summary Ref : \n",
      "------------------\n",
      " the reserve bank of australia lifted interest rates 025 % to 55 % , their first upwards move in more than a yearhowever , opposition parties and some analysts said the move was ill timed given data showing the australian economy grew just 01 % between october and december and 15 % on an annual basis . that 15 % annual growth rate is the lowest we have seen since the post election slump we saw back in 2000 1 , said michael blythe , chief economist at the commonwealth bank of australiathe bank said it had acted to curb inflation but the move was criticised by some analyststhe australian government said the economy remained strong with unemployment at a near 30 year lowaustralia is raising its benchmark interest rate to its highest level in four years despite signs of a slowdown in the country's economystock markets had factored in the likelihood of a rate rise but analysts still expressed concern about the strength of the economy .\n"
     ]
    }
   ],
   "source": [
    "x=np.random.randint(0,50)\n",
    "\n",
    "print(\"The Whole Article : \\n------------------\\n\",newsDF[\"Cleaned_Article\"][x])\n",
    "print(\"------------------------------------------------------------------------------------------------------------------\")\n",
    "print(\"Summary (TextRank) : \\n------------------\\n\",newsDF[\"Summary (TextRank)\"][x])\n",
    "print(\"------------------------------------------------------------------------------------------------------------------\")\n",
    "print(\"Our Summary Ref : \\n------------------\\n\",newsDF[\"Cleaned_Summary\"][x])\n"
   ]
  },
  {
   "cell_type": "code",
   "execution_count": 12,
   "id": "db228014",
   "metadata": {},
   "outputs": [
    {
     "data": {
      "text/html": [
       "<div>\n",
       "<style scoped>\n",
       "    .dataframe tbody tr th:only-of-type {\n",
       "        vertical-align: middle;\n",
       "    }\n",
       "\n",
       "    .dataframe tbody tr th {\n",
       "        vertical-align: top;\n",
       "    }\n",
       "\n",
       "    .dataframe thead th {\n",
       "        text-align: right;\n",
       "    }\n",
       "</style>\n",
       "<table border=\"1\" class=\"dataframe\">\n",
       "  <thead>\n",
       "    <tr style=\"text-align: right;\">\n",
       "      <th></th>\n",
       "      <th>rouge-1</th>\n",
       "      <th>rouge-2</th>\n",
       "      <th>rouge-l</th>\n",
       "    </tr>\n",
       "  </thead>\n",
       "  <tbody>\n",
       "    <tr>\n",
       "      <th>r</th>\n",
       "      <td>0.534711</td>\n",
       "      <td>0.454288</td>\n",
       "      <td>0.527834</td>\n",
       "    </tr>\n",
       "    <tr>\n",
       "      <th>p</th>\n",
       "      <td>0.877832</td>\n",
       "      <td>0.811927</td>\n",
       "      <td>0.867539</td>\n",
       "    </tr>\n",
       "    <tr>\n",
       "      <th>f</th>\n",
       "      <td>0.655684</td>\n",
       "      <td>0.571878</td>\n",
       "      <td>0.647561</td>\n",
       "    </tr>\n",
       "  </tbody>\n",
       "</table>\n",
       "</div>"
      ],
      "text/plain": [
       "    rouge-1   rouge-2   rouge-l\n",
       "r  0.534711  0.454288  0.527834\n",
       "p  0.877832  0.811927  0.867539\n",
       "f  0.655684  0.571878  0.647561"
      ]
     },
     "execution_count": 12,
     "metadata": {},
     "output_type": "execute_result"
    }
   ],
   "source": [
    "pd.DataFrame(Summarizer.summaryScore(newsDF['Summary (TextRank)'][:50],newsDF['Cleaned_Summary'][:50],Avg=True))"
   ]
  },
  {
   "cell_type": "markdown",
   "id": "1113fc71",
   "metadata": {},
   "source": [
    "let's look at our TestRank Rouge-n score distribution"
   ]
  },
  {
   "cell_type": "code",
   "execution_count": 13,
   "id": "271e585a",
   "metadata": {},
   "outputs": [
    {
     "data": {
      "image/png": "[encoded data removed]",
      "text/plain": [
       "<Figure size 432x288 with 1 Axes>"
      ]
     },
     "metadata": {
      "needs_background": "light"
     },
     "output_type": "display_data"
    }
   ],
   "source": [
    "#Plot our TestRank Rouge-n score distribution \n",
    "TextRankSummaryrougeF1Score=[]\n",
    "for i in range(0,len(newsDF['Summary (TextRank)'][:50].values)):\n",
    "    TextRankSummaryrougeF1Score.append(Summarizer.summaryScore(newsDF['Summary (TextRank)'].values[i],newsDF['Cleaned_Summary'].values[i],Avg=True)['rouge-2']['f'])\n",
    "plt.title(\"LexRank Rouge 2: F1 Score\")\n",
    "\n",
    "sns.histplot(TextRankSummaryrougeF1Score);"
   ]
  },
  {
   "cell_type": "code",
   "execution_count": 12,
   "id": "c72adcb3",
   "metadata": {},
   "outputs": [],
   "source": [
    "# newsDF.to_pickle('./dataset/TextRankSummaryBBC.p')\n",
    "# newsDF=pd.read_pickle(\"./dataset/TextRankSummaryBBC.p\")\n"
   ]
  },
  {
   "cell_type": "markdown",
   "id": "e77504b1",
   "metadata": {},
   "source": [
    "Similar to TextRank , there is LexRank algorithm which perform summarization."
   ]
  },
  {
   "cell_type": "markdown",
   "id": "a36d401d",
   "metadata": {},
   "source": [
    "## LexRank"
   ]
  },
  {
   "cell_type": "markdown",
   "id": "0ba6adea",
   "metadata": {},
   "source": [
    "Along with TextRank , sumy has various other algorithms to summarize text.\n",
    "In this section, I shall discuss on implementation of the LexRank algorithm for summarization using sumy.\n",
    "\n",
    "A sentence which is similar to many other sentences of the text has a high probability of being important. The approach of LexRank is that a particular sentence is recommended by other similar sentences and hence is ranked higher.Higher the rank, higher is the priority of being included in the summarized text.\n"
   ]
  },
  {
   "cell_type": "markdown",
   "id": "221ae036",
   "metadata": {},
   "source": [
    "We import PlaintextParser since we have a article stored as a string hence we use it Along with parser, you have to import Tokenizer for segmenting the raw text into tokens."
   ]
  },
  {
   "cell_type": "markdown",
   "id": "f8ed3a23",
   "metadata": {},
   "source": [
    "As the text source here is a string, you need to use PlainTextParser.from_string() function to initialize the parser. You can specify the language used as input to the Tokenizer."
   ]
  },
  {
   "cell_type": "code",
   "execution_count": 14,
   "id": "577c0a43",
   "metadata": {},
   "outputs": [],
   "source": [
    "#Applying LexRank on data\n",
    "newsDF['Summary (LexRank)'] = newsDF[\"Cleaned_Article\"][:50].apply(lambda x:Summarizer.extracitve(x,LexRankSummarizer,3)) \n"
   ]
  },
  {
   "cell_type": "code",
   "execution_count": 15,
   "id": "bc0bcc67",
   "metadata": {},
   "outputs": [
    {
     "name": "stdout",
     "output_type": "stream",
     "text": [
      "The Whole Article : \n",
      "------------------\n",
      " australia is raising its benchmark interest rate to its highest level in four years despite signs of a slowdown in the country's economy . , the reserve bank of australia lifted interest rates 025 % to 55 % , their first upwards move in more than a year . however , shortly after the bank made its decision , new figures showed a fall in economic growth in the last quarter . the bank said it had acted to curb inflation but the move was criticised by some analysts . , the rate hike was the first since december 2003 and had been well flagged in advance . however , opposition parties and some analysts said the move was ill timed given data showing the australian economy grew just 01 % between october and december and 15 % on an annual basis . , the figures , representing a decline from the 02 % growth in gdp seen between july and september , were below market expectations . consumer spending remains strong , however , and the bank is concerned about growing inflationary pressures . over recent months it has become increasingly clear that remaining spare capacity in the labour and goods markets is becoming rather limited , said ian macfarlane , governor of the reserve bank . , at 26 % , inflation remains within the bank's 2 3 % target range . however , exports declined in the second half of 2004 , fuelling a rise in the country's current account deficit the difference in the value of imports compared to exports to a record australian dollar 294bn . the australian government said the economy remained strong with unemployment at a near 30 year low . the economy has been strong and it is properly moderating but it does not look to me like it is slowing in any unreasonable way , said treasurer peter costello . stock markets had factored in the likelihood of a rate rise but analysts still expressed concern about the strength of the economy . that 15 % annual growth rate is the lowest we have seen since the post election slump we saw back in 2000 1 , said michael blythe , chief economist at the commonwealth bank of australia . this suggests the economy really did slow very sharply in the second half of 2004 .\n",
      "------------------------------------------------------------------------------------------------------------------\n",
      "Summary (LexRank) : \n",
      "------------------\n",
      " , the reserve bank of australia lifted interest rates 025 % to 55 % , their first upwards move in more than a year . the bank said it had acted to curb inflation but the move was criticised by some analysts . the australian government said the economy remained strong with unemployment at a near 30 year low .\n",
      "------------------------------------------------------------------------------------------------------------------\n",
      "Our Summary Ref : \n",
      "------------------\n",
      " the reserve bank of australia lifted interest rates 025 % to 55 % , their first upwards move in more than a yearhowever , opposition parties and some analysts said the move was ill timed given data showing the australian economy grew just 01 % between october and december and 15 % on an annual basis . that 15 % annual growth rate is the lowest we have seen since the post election slump we saw back in 2000 1 , said michael blythe , chief economist at the commonwealth bank of australiathe bank said it had acted to curb inflation but the move was criticised by some analyststhe australian government said the economy remained strong with unemployment at a near 30 year lowaustralia is raising its benchmark interest rate to its highest level in four years despite signs of a slowdown in the country's economystock markets had factored in the likelihood of a rate rise but analysts still expressed concern about the strength of the economy .\n"
     ]
    }
   ],
   "source": [
    "print(\"The Whole Article : \\n------------------\\n\",newsDF[\"Cleaned_Article\"][x])\n",
    "print(\"------------------------------------------------------------------------------------------------------------------\")\n",
    "print(\"Summary (LexRank) : \\n------------------\\n\",newsDF[\"Summary (LexRank)\"][x])\n",
    "print(\"------------------------------------------------------------------------------------------------------------------\")\n",
    "print(\"Our Summary Ref : \\n------------------\\n\",newsDF[\"Cleaned_Summary\"][x])\n"
   ]
  },
  {
   "cell_type": "code",
   "execution_count": 17,
   "id": "fbc4e15d",
   "metadata": {},
   "outputs": [
    {
     "data": {
      "text/html": [
       "<div>\n",
       "<style scoped>\n",
       "    .dataframe tbody tr th:only-of-type {\n",
       "        vertical-align: middle;\n",
       "    }\n",
       "\n",
       "    .dataframe tbody tr th {\n",
       "        vertical-align: top;\n",
       "    }\n",
       "\n",
       "    .dataframe thead th {\n",
       "        text-align: right;\n",
       "    }\n",
       "</style>\n",
       "<table border=\"1\" class=\"dataframe\">\n",
       "  <thead>\n",
       "    <tr style=\"text-align: right;\">\n",
       "      <th></th>\n",
       "      <th>rouge-1</th>\n",
       "      <th>rouge-2</th>\n",
       "      <th>rouge-l</th>\n",
       "    </tr>\n",
       "  </thead>\n",
       "  <tbody>\n",
       "    <tr>\n",
       "      <th>r</th>\n",
       "      <td>0.401638</td>\n",
       "      <td>0.291432</td>\n",
       "      <td>0.389826</td>\n",
       "    </tr>\n",
       "    <tr>\n",
       "      <th>p</th>\n",
       "      <td>0.774881</td>\n",
       "      <td>0.637968</td>\n",
       "      <td>0.752442</td>\n",
       "    </tr>\n",
       "    <tr>\n",
       "      <th>f</th>\n",
       "      <td>0.517802</td>\n",
       "      <td>0.389364</td>\n",
       "      <td>0.502580</td>\n",
       "    </tr>\n",
       "  </tbody>\n",
       "</table>\n",
       "</div>"
      ],
      "text/plain": [
       "    rouge-1   rouge-2   rouge-l\n",
       "r  0.401638  0.291432  0.389826\n",
       "p  0.774881  0.637968  0.752442\n",
       "f  0.517802  0.389364  0.502580"
      ]
     },
     "execution_count": 17,
     "metadata": {},
     "output_type": "execute_result"
    }
   ],
   "source": [
    "pd.DataFrame(Summarizer.summaryScore(newsDF['Summary (LexRank)'][:50],newsDF['Cleaned_Summary'][:50], Avg=True))"
   ]
  },
  {
   "cell_type": "markdown",
   "id": "3c45c1ca",
   "metadata": {},
   "source": [
    "let's look at our LexRank Rouge-n score distribution"
   ]
  },
  {
   "cell_type": "code",
   "execution_count": 18,
   "id": "313e0843",
   "metadata": {},
   "outputs": [
    {
     "data": {
      "image/png": "[encoded data removed]",
      "text/plain": [
       "<Figure size 432x288 with 1 Axes>"
      ]
     },
     "metadata": {
      "needs_background": "light"
     },
     "output_type": "display_data"
    }
   ],
   "source": [
    "#plot our LexRank Rouge-n score distribution\n",
    "LexRankSummaryrougeF1Score=[]\n",
    "for i in range(0,len(newsDF['Summary (LexRank)'][:50].values)):\n",
    "    LexRankSummaryrougeF1Score.append(Summarizer.summaryScore(newsDF['Summary (LexRank)'].values[i],newsDF['Cleaned_Summary'].values[i],Avg=True)['rouge-2']['f'])\n",
    "plt.title(\"LexRank Rouge 2: F1 Score\")\n",
    "sns.histplot(LexRankSummaryrougeF1Score);\n"
   ]
  },
  {
   "cell_type": "code",
   "execution_count": 17,
   "id": "3feff1dc",
   "metadata": {},
   "outputs": [],
   "source": [
    "# newsDF.to_pickle('./dataset/LexRankSummaryBBC.p')\n",
    "# newsDF=pd.read_pickle(\"./dataset/LexRankSummaryBBC.p\")"
   ]
  },
  {
   "cell_type": "markdown",
   "id": "411efd0a",
   "metadata": {},
   "source": [
    "### It's time to compare TextRank with LexRank based on their Rouge score."
   ]
  },
  {
   "cell_type": "code",
   "execution_count": 19,
   "id": "4e8727cb",
   "metadata": {},
   "outputs": [
    {
     "data": {
      "text/html": [
       "<div>\n",
       "<style scoped>\n",
       "    .dataframe tbody tr th:only-of-type {\n",
       "        vertical-align: middle;\n",
       "    }\n",
       "\n",
       "    .dataframe tbody tr th {\n",
       "        vertical-align: top;\n",
       "    }\n",
       "\n",
       "    .dataframe thead th {\n",
       "        text-align: right;\n",
       "    }\n",
       "</style>\n",
       "<table border=\"1\" class=\"dataframe\">\n",
       "  <thead>\n",
       "    <tr style=\"text-align: right;\">\n",
       "      <th></th>\n",
       "      <th>rouge-1 (LexRank)</th>\n",
       "      <th>rouge-1 (TextRank)</th>\n",
       "      <th>rouge-2 (LexRank)</th>\n",
       "      <th>rouge-2 (TextRank)</th>\n",
       "      <th>rouge-l (LexRank)</th>\n",
       "      <th>rouge-l (TextRank)</th>\n",
       "    </tr>\n",
       "  </thead>\n",
       "  <tbody>\n",
       "    <tr>\n",
       "      <th>r</th>\n",
       "      <td>0.401638</td>\n",
       "      <td>0.534711</td>\n",
       "      <td>0.291432</td>\n",
       "      <td>0.454288</td>\n",
       "      <td>0.389826</td>\n",
       "      <td>0.527834</td>\n",
       "    </tr>\n",
       "    <tr>\n",
       "      <th>p</th>\n",
       "      <td>0.774881</td>\n",
       "      <td>0.877832</td>\n",
       "      <td>0.637968</td>\n",
       "      <td>0.811927</td>\n",
       "      <td>0.752442</td>\n",
       "      <td>0.867539</td>\n",
       "    </tr>\n",
       "    <tr>\n",
       "      <th>f</th>\n",
       "      <td>0.517802</td>\n",
       "      <td>0.655684</td>\n",
       "      <td>0.389364</td>\n",
       "      <td>0.571878</td>\n",
       "      <td>0.502580</td>\n",
       "      <td>0.647561</td>\n",
       "    </tr>\n",
       "  </tbody>\n",
       "</table>\n",
       "</div>"
      ],
      "text/plain": [
       "   rouge-1 (LexRank)  rouge-1 (TextRank)  rouge-2 (LexRank)  \\\n",
       "r           0.401638            0.534711           0.291432   \n",
       "p           0.774881            0.877832           0.637968   \n",
       "f           0.517802            0.655684           0.389364   \n",
       "\n",
       "   rouge-2 (TextRank)  rouge-l (LexRank)  rouge-l (TextRank)  \n",
       "r            0.454288           0.389826            0.527834  \n",
       "p            0.811927           0.752442            0.867539  \n",
       "f            0.571878           0.502580            0.647561  "
      ]
     },
     "execution_count": 19,
     "metadata": {},
     "output_type": "execute_result"
    }
   ],
   "source": [
    "text_rank_scores = Summarizer.summaryScore(newsDF['Summary (TextRank)'][:50],newsDF['Cleaned_Summary'][:50], Avg=True)\n",
    "lex_rank_scores = Summarizer.summaryScore(newsDF['Summary (LexRank)'][:50],newsDF['Cleaned_Summary'][:50], Avg=True)\n",
    "\n",
    "text_rank_scores_df = pd.DataFrame(text_rank_scores)\n",
    "lex_rank_scores_df = pd.DataFrame(lex_rank_scores)\n",
    "\n",
    "scores_df = text_rank_scores_df.join(lex_rank_scores_df, lsuffix=' (TextRank)', rsuffix=' (LexRank)').sort_index(axis=1)\n",
    "scores_df"
   ]
  },
  {
   "cell_type": "markdown",
   "id": "399e0806",
   "metadata": {},
   "source": [
    "# Abstractive Text Summarization"
   ]
  },
  {
   "cell_type": "markdown",
   "id": "8c1fe4ca",
   "metadata": {},
   "source": [
    "Abstractive summarization is the new state of art method, which generates new sentences that could best represent the whole text. This is better than extractive methods where sentences are just selected from original text for the summary.\n",
    "\n",
    "Some common abstractive models are :\n",
    "- GPT-2\n",
    "- GPT-3\n",
    "- BERT \n",
    "- OpenAI\n",
    "- GPT\n",
    "- T5\n",
    "- BART\n",
    "\n",
    "An awesome feature with transformers is that it provides PreTrained models with weights that can be easily instantiated through from_pretrained() method.\n",
    "In this section we will discuss on BART transformer implementation. \n"
   ]
  },
  {
   "cell_type": "markdown",
   "id": "6c6eeb34",
   "metadata": {},
   "source": [
    "##  BART Transformer"
   ]
  },
  {
   "cell_type": "markdown",
   "id": "aae50fe8",
   "metadata": {},
   "source": [
    "BART is an encoder-decoder model. It converts all language problems into a text-to-text format."
   ]
  },
  {
   "cell_type": "code",
   "execution_count": 20,
   "id": "b0a104ba",
   "metadata": {},
   "outputs": [],
   "source": [
    "tokenizer = AutoTokenizer.from_pretrained(\"facebook/bart-large-xsum\")\n",
    "model = AutoModelForSeq2SeqLM.from_pretrained(\"facebook/bart-large-xsum\")"
   ]
  },
  {
   "cell_type": "code",
   "execution_count": 30,
   "id": "86695fe5",
   "metadata": {},
   "outputs": [
    {
     "name": "stderr",
     "output_type": "stream",
     "text": [
      "/home/mo/anaconda3/lib/python3.7/site-packages/transformers/generation_utils.py:1648: UserWarning: __floordiv__ is deprecated, and its behavior will change in a future version of pytorch. It currently rounds toward 0 (like the 'trunc' function NOT 'floor'). This results in incorrect rounding for negative values. To keep the current behavior, use torch.div(a, b, rounding_mode='trunc'), or for actual floor division, use torch.div(a, b, rounding_mode='floor').\n",
      "  next_indices = next_tokens // vocab_size\n"
     ]
    }
   ],
   "source": [
    "newsDF['BARTSummary'] = newsDF[\"Article\"][:50].apply(lambda x:Summarizer.abstractive(x,tokenizer,model)) \n"
   ]
  },
  {
   "cell_type": "code",
   "execution_count": 31,
   "id": "975b2372",
   "metadata": {},
   "outputs": [
    {
     "name": "stdout",
     "output_type": "stream",
     "text": [
      "The Whole Article : \n",
      "------------------\n",
      " Australia rates at four year high , Australia is raising its benchmark interest rate to its highest level in four years despite signs of a slowdown in the country's economy. , The Reserve Bank of Australia lifted interest rates 0.25% to 5.5%, their first upwards move in more than a year. However, shortly after the Bank made its decision, new figures showed a fall in economic growth in the last quarter. The Bank said it had acted to curb inflation but the move was criticised by some analysts. , The rate hike was the first since December 2003 and had been well-flagged in advance. However, opposition parties and some analysts said the move was ill-timed given data showing the Australian economy grew just 0.1% between October and December and 1.5% on an annual basis. , The figures, representing a decline from the 0.2% growth in GDP seen between July and September, were below market expectations. Consumer spending remains strong, however, and the Bank is concerned about growing inflationary pressures. \"Over recent months it has become increasingly clear that remaining spare capacity in the labour and goods markets is becoming rather limited,\" said Ian Macfarlane, Governor of the Reserve Bank. , At 2.6%, inflation remains within the Bank's 2-3% target range. However, exports declined in the second half of 2004, fuelling a rise in the country's current account deficit - the difference in the value of imports compared to exports - to a record Australian dollar 29.4bn. The Australian government said the economy remained strong with unemployment at a near 30 year low. \"The economy has been strong and it is properly moderating but it doesn't look to me like it's slowing in any unreasonable way,\" said Treasurer Peter Costello. Stock markets had factored in the likelihood of a rate rise but analysts still expressed concern about the strength of the economy. \"That 1.5% annual growth rate is the lowest we have seen since the post-election slump we saw back in 2000-1,\" said Michael Blythe, chief economist at the Commonwealth Bank of Australia. \"This suggests the economy really did slow very sharply in the second half of 2004.\"\n",
      "\n",
      "------------------------------------------------------------------------------------------------------------------\n",
      "BARTSummary : \n",
      "------------------\n",
      " Australia's central bank has raised interest rates for the first time in more than a year, amid concerns about the strength of the country's economic growth and the impact of the global financial crisis on the country, reports the BBC's Mark Lowen in Sydney, Australia, on Wednesday... and the BBC News website in London. and in New York, Paris, London, and Hong Kong, respectively, on Thursday, and in the US, on Friday, and on Sunday, in the UK, and throughout the week, across the continent, and around the world, and across the world.\n",
      "------------------------------------------------------------------------------------------------------------------\n",
      "Our Summary Ref : \n",
      "------------------\n",
      " The Reserve Bank of Australia lifted interest rates 0.25% to 5.5%, their first upwards move in more than a year.However, opposition parties and some analysts said the move was ill-timed given data showing the Australian economy grew just 0.1% between October and December and 1.5% on an annual basis.\"That 1.5% annual growth rate is the lowest we have seen since the post-election slump we saw back in 2000-1,\" said Michael Blythe, chief economist at the Commonwealth Bank of Australia.The Bank said it had acted to curb inflation but the move was criticised by some analysts.The Australian government said the economy remained strong with unemployment at a near 30 year low.Australia is raising its benchmark interest rate to its highest level in four years despite signs of a slowdown in the country's economy.Stock markets had factored in the likelihood of a rate rise but analysts still expressed concern about the strength of the economy.\n"
     ]
    }
   ],
   "source": [
    "print(\"The Whole Article : \\n------------------\\n\",newsDF[\"Article\"][x])\n",
    "print(\"------------------------------------------------------------------------------------------------------------------\")\n",
    "print(\"BARTSummary : \\n------------------\\n\",newsDF[\"BARTSummary\"][x])\n",
    "print(\"------------------------------------------------------------------------------------------------------------------\")\n",
    "print(\"Our Summary Ref : \\n------------------\\n\",newsDF[\"Summary\"][x])\n"
   ]
  },
  {
   "cell_type": "code",
   "execution_count": 38,
   "id": "3ce38055",
   "metadata": {},
   "outputs": [
    {
     "data": {
      "text/html": [
       "<div>\n",
       "<style scoped>\n",
       "    .dataframe tbody tr th:only-of-type {\n",
       "        vertical-align: middle;\n",
       "    }\n",
       "\n",
       "    .dataframe tbody tr th {\n",
       "        vertical-align: top;\n",
       "    }\n",
       "\n",
       "    .dataframe thead th {\n",
       "        text-align: right;\n",
       "    }\n",
       "</style>\n",
       "<table border=\"1\" class=\"dataframe\">\n",
       "  <thead>\n",
       "    <tr style=\"text-align: right;\">\n",
       "      <th></th>\n",
       "      <th>rouge-1</th>\n",
       "      <th>rouge-2</th>\n",
       "      <th>rouge-l</th>\n",
       "    </tr>\n",
       "  </thead>\n",
       "  <tbody>\n",
       "    <tr>\n",
       "      <th>r</th>\n",
       "      <td>0.270012</td>\n",
       "      <td>0.098743</td>\n",
       "      <td>0.237869</td>\n",
       "    </tr>\n",
       "    <tr>\n",
       "      <th>p</th>\n",
       "      <td>0.408980</td>\n",
       "      <td>0.148026</td>\n",
       "      <td>0.359771</td>\n",
       "    </tr>\n",
       "    <tr>\n",
       "      <th>f</th>\n",
       "      <td>0.318963</td>\n",
       "      <td>0.115572</td>\n",
       "      <td>0.280923</td>\n",
       "    </tr>\n",
       "  </tbody>\n",
       "</table>\n",
       "</div>"
      ],
      "text/plain": [
       "    rouge-1   rouge-2   rouge-l\n",
       "r  0.270012  0.098743  0.237869\n",
       "p  0.408980  0.148026  0.359771\n",
       "f  0.318963  0.115572  0.280923"
      ]
     },
     "execution_count": 38,
     "metadata": {},
     "output_type": "execute_result"
    }
   ],
   "source": [
    "pd.DataFrame(Summarizer.summaryScore(newsDF['BARTSummary'][:50],newsDF['Summary'][:50], Avg=True))\n"
   ]
  },
  {
   "cell_type": "markdown",
   "id": "193147a4",
   "metadata": {},
   "source": [
    "let's look at our LexRank Rouge-n score distribution"
   ]
  },
  {
   "cell_type": "code",
   "execution_count": 44,
   "id": "0c453a83",
   "metadata": {},
   "outputs": [
    {
     "data": {
      "image/png": "[encoded data removed]",
      "text/plain": [
       "<Figure size 432x288 with 1 Axes>"
      ]
     },
     "metadata": {
      "needs_background": "light"
     },
     "output_type": "display_data"
    }
   ],
   "source": [
    "#plot our LexRank Rouge-n score distribution\n",
    "BARTSummaryrougeF1Score=[]\n",
    "for i in range(0,len(newsDF['Summary (LexRank)'][:50].values)):\n",
    "    BARTSummaryrougeF1Score.append(Summarizer.summaryScore(newsDF['BARTSummary'].values[i],newsDF['Summary'].values[i],Avg=True)['rouge-2']['f'])\n",
    "plt.title(\"BARTSummary Rouge: F1 Score\")\n",
    "sns.histplot(BARTSummaryrougeF1Score);\n"
   ]
  },
  {
   "cell_type": "code",
   "execution_count": 42,
   "id": "bbafb512",
   "metadata": {},
   "outputs": [],
   "source": [
    "\n",
    "bart_scores =Summarizer.summaryScore(newsDF['BARTSummary'][:50],newsDF['Summary'][:50], Avg=True)\n",
    "\n",
    "\n",
    "text_rank_scores_df = pd.DataFrame(text_rank_scores)\n",
    "lex_rank_scores_df = pd.DataFrame(lex_rank_scores)\n",
    "bart_scores_df = pd.DataFrame(bart_scores)\n",
    "text_rank_scores_df.columns=text_rank_scores_df.columns+\"(Text Rank)\"\n",
    "lex_rank_scores_df.columns=lex_rank_scores_df.columns+\"(Lex Rank)\"\n",
    "bart_scores_df.columns=bart_scores_df.columns+\"(BART)\"\n"
   ]
  },
  {
   "cell_type": "markdown",
   "id": "65a4ee94",
   "metadata": {},
   "source": [
    "### It's time to compare  all the models based on their Rouge score."
   ]
  },
  {
   "cell_type": "code",
   "execution_count": 43,
   "id": "69a53b58",
   "metadata": {},
   "outputs": [
    {
     "data": {
      "text/html": [
       "<div>\n",
       "<style scoped>\n",
       "    .dataframe tbody tr th:only-of-type {\n",
       "        vertical-align: middle;\n",
       "    }\n",
       "\n",
       "    .dataframe tbody tr th {\n",
       "        vertical-align: top;\n",
       "    }\n",
       "\n",
       "    .dataframe thead th {\n",
       "        text-align: right;\n",
       "    }\n",
       "</style>\n",
       "<table border=\"1\" class=\"dataframe\">\n",
       "  <thead>\n",
       "    <tr style=\"text-align: right;\">\n",
       "      <th></th>\n",
       "      <th>rouge-1(Text Rank)</th>\n",
       "      <th>rouge-2(Text Rank)</th>\n",
       "      <th>rouge-l(Text Rank)</th>\n",
       "      <th>rouge-1(Lex Rank)</th>\n",
       "      <th>rouge-2(Lex Rank)</th>\n",
       "      <th>rouge-l(Lex Rank)</th>\n",
       "      <th>rouge-1(BART)</th>\n",
       "      <th>rouge-2(BART)</th>\n",
       "      <th>rouge-l(BART)</th>\n",
       "    </tr>\n",
       "  </thead>\n",
       "  <tbody>\n",
       "    <tr>\n",
       "      <th>r</th>\n",
       "      <td>0.534711</td>\n",
       "      <td>0.454288</td>\n",
       "      <td>0.527834</td>\n",
       "      <td>0.401638</td>\n",
       "      <td>0.291432</td>\n",
       "      <td>0.389826</td>\n",
       "      <td>0.270012</td>\n",
       "      <td>0.098743</td>\n",
       "      <td>0.237869</td>\n",
       "    </tr>\n",
       "    <tr>\n",
       "      <th>p</th>\n",
       "      <td>0.877832</td>\n",
       "      <td>0.811927</td>\n",
       "      <td>0.867539</td>\n",
       "      <td>0.774881</td>\n",
       "      <td>0.637968</td>\n",
       "      <td>0.752442</td>\n",
       "      <td>0.408980</td>\n",
       "      <td>0.148026</td>\n",
       "      <td>0.359771</td>\n",
       "    </tr>\n",
       "    <tr>\n",
       "      <th>f</th>\n",
       "      <td>0.655684</td>\n",
       "      <td>0.571878</td>\n",
       "      <td>0.647561</td>\n",
       "      <td>0.517802</td>\n",
       "      <td>0.389364</td>\n",
       "      <td>0.502580</td>\n",
       "      <td>0.318963</td>\n",
       "      <td>0.115572</td>\n",
       "      <td>0.280923</td>\n",
       "    </tr>\n",
       "  </tbody>\n",
       "</table>\n",
       "</div>"
      ],
      "text/plain": [
       "   rouge-1(Text Rank)  rouge-2(Text Rank)  rouge-l(Text Rank)  \\\n",
       "r            0.534711            0.454288            0.527834   \n",
       "p            0.877832            0.811927            0.867539   \n",
       "f            0.655684            0.571878            0.647561   \n",
       "\n",
       "   rouge-1(Lex Rank)  rouge-2(Lex Rank)  rouge-l(Lex Rank)  rouge-1(BART)  \\\n",
       "r           0.401638           0.291432           0.389826       0.270012   \n",
       "p           0.774881           0.637968           0.752442       0.408980   \n",
       "f           0.517802           0.389364           0.502580       0.318963   \n",
       "\n",
       "   rouge-2(BART)  rouge-l(BART)  \n",
       "r       0.098743       0.237869  \n",
       "p       0.148026       0.359771  \n",
       "f       0.115572       0.280923  "
      ]
     },
     "execution_count": 43,
     "metadata": {},
     "output_type": "execute_result"
    }
   ],
   "source": [
    "pd.concat([text_rank_scores_df,lex_rank_scores_df,bart_scores_df],axis=1)"
   ]
  },
  {
   "cell_type": "code",
   "execution_count": null,
   "id": "df95ccff",
   "metadata": {},
   "outputs": [],
   "source": [
    "# newsDF.to_pickle('./dataset/BARTSummaryBBC.p')\n",
    "# newsDF=pd.read_pickle(\"./dataset/BARTSummaryBBC.p\")"
   ]
  },
  {
   "cell_type": "code",
   "execution_count": null,
   "id": "0d1d14ba",
   "metadata": {},
   "outputs": [],
   "source": []
  }
 ],
 "metadata": {
  "kernelspec": {
   "display_name": "Python 3",
   "language": "python",
   "name": "python3"
  },
  "language_info": {
   "codemirror_mode": {
    "name": "ipython",
    "version": 3
   },
   "file_extension": ".py",
   "mimetype": "text/x-python",
   "name": "python",
   "nbconvert_exporter": "python",
   "pygments_lexer": "ipython3",
   "version": "3.7.11"
  }
 },
 "nbformat": 4,
 "nbformat_minor": 5
}
