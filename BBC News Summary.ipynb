{
 "cells": [
  {
   "cell_type": "markdown",
   "id": "bd0c8a34",
   "metadata": {},
   "source": [
    "# News Summarization Approaches for NLP"
   ]
  },
  {
   "cell_type": "markdown",
   "id": "3ecda095",
   "metadata": {},
   "source": [
    "Text summarization in NLP is the process of summarizing the information in large texts for quicker consumption. In this notebook, I will walk you through the traditional extractive as well as the advanced generative methods to implement News summarization.\n",
    "\n",
    "When you open news sites, do you just start reading every news article? Probably not. We typically glance the short news summary and then read more details if interested. Short, informative summaries of the news is now everywhere like magazines, news aggregator apps, research sites, etc.\n",
    "It is essential for the summary to be a fluent, continuous and depict the significant.\n",
    "\n",
    "Text summarization methods can be grouped into two main categories: \n",
    "- Extractive \n",
    "- Abstractive \n",
    "\n",
    "\n",
    "\n"
   ]
  },
  {
   "cell_type": "code",
   "execution_count": 10,
   "id": "19bc6c0d",
   "metadata": {},
   "outputs": [
    {
     "name": "stderr",
     "output_type": "stream",
     "text": [
      "[nltk_data] Downloading package stopwords to /home/mo/nltk_data...\n",
      "[nltk_data]   Package stopwords is already up-to-date!\n"
     ]
    }
   ],
   "source": [
    "#import necessary libraries\n",
    "## for uploadinf data\n",
    "import pandas as pd\n",
    "import os\n",
    "from pathlib import Path\n",
    "\n",
    "\n",
    "## for uploadinf data\n",
    "import pandas as pd\n",
    "import os\n",
    "import numpy as np\n",
    "\n",
    "\n",
    "## for plotting\n",
    "import matplotlib.pyplot as plt\n",
    "import seaborn as sns\n",
    "\n",
    "## import necessary nlp libraries\n",
    "import re\n",
    "import nltk\n",
    "from nltk import download\n",
    "download('stopwords')\n",
    "from nltk.corpus import stopwords\n",
    "from nltk.stem import WordNetLemmatizer\n",
    "lem = WordNetLemmatizer()\n",
    "from nltk import sent_tokenize\n",
    "\n",
    "\n",
    "from sumy.parsers.plaintext import PlaintextParser\n",
    "from sumy.nlp.tokenizers import Tokenizer\n",
    "\n",
    "# TextRank \n",
    "from sumy.summarizers.text_rank import TextRankSummarizer\n",
    "\n",
    "# LexRank\n",
    "from sumy.summarizers.lex_rank import LexRankSummarizer\n",
    "\n",
    "#BART \n",
    "from transformers import BartTokenizer, BartForConditionalGeneration\n",
    "import torch\n",
    "tokenizer = BartTokenizer.from_pretrained(\"facebook/bart-large-cnn\")\n",
    "bart = BartForConditionalGeneration.from_pretrained(\"facebook/bart-large-cnn\")\n",
    "\n",
    "# Evaluation\n",
    "from sumy.evaluation.rouge import rouge_1,rouge_2\n",
    "from rouge import Rouge\n",
    "rouge = Rouge()\n",
    "from rouge.rouge_score import rouge_n,rouge_l_summary_level\n"
   ]
  },
  {
   "cell_type": "markdown",
   "id": "4f36d9aa",
   "metadata": {},
   "source": [
    "### Contractions"
   ]
  },
  {
   "cell_type": "code",
   "execution_count": 5,
   "id": "70a705cd",
   "metadata": {},
   "outputs": [],
   "source": [
    "\n",
    "# A list of contractions from http://stackoverflow.com/questions/19790188/expanding-english-language-contractions-in-python\n",
    "contractions_dict =          {\"ain't\": \"is not\", \"aren't\": \"are not\",\"can't\": \"cannot\", \"'cause\": \"because\", \"could've\": \"could have\", \"couldn't\": \"could not\",\n",
    "                           \"didn't\": \"did not\",  \"doesn't\": \"does not\", \"don't\": \"do not\", \"hadn't\": \"had not\", \"hasn't\": \"has not\", \"haven't\": \"have not\",\n",
    "                           \"he'd\": \"he would\",\"he'll\": \"he will\", \"he's\": \"he is\", \"how'd\": \"how did\", \"how'd'y\": \"how do you\", \"how'll\": \"how will\", \"how's\": \"how is\",\n",
    "                           \"I'd\": \"I would\", \"I'd've\": \"I would have\", \"I'll\": \"I will\", \"I'll've\": \"I will have\",\"I'm\": \"I am\", \"I've\": \"I have\", \"i'd\": \"i would\",\n",
    "                           \"i'd've\": \"i would have\", \"i'll\": \"i will\",  \"i'll've\": \"i will have\",\"i'm\": \"i am\", \"i've\": \"i have\", \"isn't\": \"is not\", \"it'd\": \"it would\",\n",
    "                           \"it'd've\": \"it would have\", \"it'll\": \"it will\", \"it'll've\": \"it will have\",\"it's\": \"it is\", \"let's\": \"let us\", \"ma'am\": \"madam\",\n",
    "                           \"mayn't\": \"may not\", \"might've\": \"might have\",\"mightn't\": \"might not\",\"mightn't've\": \"might not have\", \"must've\": \"must have\",\n",
    "                           \"mustn't\": \"must not\", \"mustn't've\": \"must not have\", \"needn't\": \"need not\", \"needn't've\": \"need not have\",\"o'clock\": \"of the clock\",\n",
    "                           \"oughtn't\": \"ought not\", \"oughtn't've\": \"ought not have\", \"shan't\": \"shall not\", \"sha'n't\": \"shall not\", \"shan't've\": \"shall not have\",\n",
    "                           \"she'd\": \"she would\", \"she'd've\": \"she would have\", \"she'll\": \"she will\", \"she'll've\": \"she will have\", \"she's\": \"she is\",\n",
    "                           \"should've\": \"should have\", \"shouldn't\": \"should not\", \"shouldn't've\": \"should not have\", \"so've\": \"so have\",\"so's\": \"so as\",\n",
    "                           \"this's\": \"this is\",\"that'd\": \"that would\", \"that'd've\": \"that would have\", \"that's\": \"that is\", \"there'd\": \"there would\",\n",
    "                           \"there'd've\": \"there would have\", \"there's\": \"there is\", \"here's\": \"here is\",\"they'd\": \"they would\", \"they'd've\": \"they would have\",\n",
    "                           \"they'll\": \"they will\", \"they'll've\": \"they will have\", \"they're\": \"they are\", \"they've\": \"they have\", \"to've\": \"to have\",\n",
    "                           \"wasn't\": \"was not\", \"we'd\": \"we would\", \"we'd've\": \"we would have\", \"we'll\": \"we will\", \"we'll've\": \"we will have\", \"we're\": \"we are\",\n",
    "                           \"we've\": \"we have\", \"weren't\": \"were not\", \"what'll\": \"what will\", \"what'll've\": \"what will have\", \"what're\": \"what are\",\n",
    "                           \"what's\": \"what is\", \"what've\": \"what have\", \"when's\": \"when is\", \"when've\": \"when have\", \"where'd\": \"where did\", \"where's\": \"where is\",\n",
    "                           \"where've\": \"where have\", \"who'll\": \"who will\", \"who'll've\": \"who will have\", \"who's\": \"who is\", \"who've\": \"who have\",\n",
    "                           \"why's\": \"why is\", \"why've\": \"why have\", \"will've\": \"will have\", \"won't\": \"will not\", \"won't've\": \"will not have\",\n",
    "                           \"would've\": \"would have\", \"wouldn't\": \"would not\", \"wouldn't've\": \"would not have\", \"y'all\": \"you all\",\n",
    "                           \"y'all'd\": \"you all would\",\"y'all'd've\": \"you all would have\",\"y'all're\": \"you all are\",\"y'all've\": \"you all have\",\n",
    "                           \"you'd\": \"you would\", \"you'd've\": \"you would have\", \"you'll\": \"you will\", \"you'll've\": \"you will have\",\n",
    "                           \"you're\": \"you are\", \"you've\": \"you have\", \"i've\": \"i have\"}\n"
   ]
  },
  {
   "cell_type": "markdown",
   "id": "5b3d259c",
   "metadata": {},
   "source": [
    "### CURRENCIES and EMAILS"
   ]
  },
  {
   "cell_type": "code",
   "execution_count": 6,
   "id": "2a332f5b",
   "metadata": {},
   "outputs": [],
   "source": [
    "\n",
    "CURRENCIES = {\n",
    "    \"$\": \"USD\", \"zł\": \"PLN\", \"£\": \"GBP\", \"¥\": \"JPY\", \"฿\": \"THB\", \"₡\": \"CRC\", \"₦\": \"NGN\",\"₩\": \"KRW\",\n",
    "    \"₪\": \"ILS\", \"₫\": \"VND\", \"€\": \"EUR\", \"₱\": \"PHP\", \"₲\": \"PYG\", \"₴\": \"UAH\", \"₹\": \"INR\",}\n",
    "CURRENCY_REGEX = re.compile(\n",
    "    \"({})+\".format(\"|\".join(re.escape(c) for c in CURRENCIES.keys())))\n",
    "\n",
    "EMAIL_REGEX = re.compile(\n",
    "    r\"(?:^|(?<=[^\\w@.)]))([\\w+-](\\.(?!\\.))?)*?[\\w+-]@(?:\\w-?)*?\\w+(\\.([a-z]{2,})){1,3}(?:$|(?=\\b))\",\n",
    "    flags=re.IGNORECASE | re.UNICODE,)\n",
    "\n"
   ]
  },
  {
   "cell_type": "markdown",
   "id": "5d574e70",
   "metadata": {},
   "source": [
    "## Helper Function\n"
   ]
  },
  {
   "cell_type": "code",
   "execution_count": 23,
   "id": "b8c9faaf",
   "metadata": {},
   "outputs": [],
   "source": [
    "def LoadingArticles(filepath):\n",
    "    \"\"\" Loading Articles from folders in returned back as dataframe \"\"\"\n",
    "    \n",
    "    def extract(filepath):\n",
    "        \"\"\" Extract text from files \"\"\"\n",
    "        pattern = r'(\\w+)/(\\d+)\\.txt$'\n",
    "        category, file_id = re.search(pattern, str(filepath)).groups()\n",
    "        with open(filepath, 'r', encoding='unicode_escape') as f:\n",
    "            text = f.read()\n",
    "\n",
    "            return category, file_id, text\n",
    "    articles_data = list(map(extract, filepath.glob('News Articles/*/*.txt')))\n",
    "    summaries_data = list(map(extract, filepath.glob('Summaries/*/*.txt')))\n",
    "    \n",
    "    articles_df = pd.DataFrame(articles_data, columns=('Category', 'ID', 'Article'))\n",
    "    articles_df['Article']=articles_df['Article'].str.replace(\"\\n\\n\",\" , \")\n",
    "    summaries_df = pd.DataFrame(summaries_data, columns=('Category', 'ID', 'Summary'))\n",
    "    df = articles_df.merge(summaries_df, how='inner', on=('Category', 'ID'))\n",
    "\n",
    "    \n",
    "    return df\n",
    "    \n",
    "    \n",
    "## got this function from https://stackoverflow.com/questions/19790188/expanding-english-language-contractions-in-python\n",
    "def expand_contractions(s, contractions_dict=contractions_dict):\n",
    "    \"\"\" Expand Contractions \"\"\"\n",
    "    def replace(match):\n",
    "        return contractions_dict[match.group(0)]\n",
    "    contractions_re = re.compile('(%s)' % '|'.join(contractions_dict.keys()))\n",
    "\n",
    "    return contractions_re.sub(replace, s)\n",
    "\n",
    "\n",
    "\n",
    "\n",
    "def normalize_Text(row, remove_stopwords = True):\n",
    "    row=row.lower()  #make text in lower cases\n",
    "\n",
    "    row=expand_contractions(row) #handeling the Contractions\n",
    "    row = EMAIL_REGEX.sub(' ',str(row)) #remove any email\n",
    "    row = CURRENCY_REGEX.sub(' ',str(row)) #currency handling\n",
    "    row= re.sub(\"(@[A-Za-z0-9]+)\",' ',str(row)) #remove any hashtages\n",
    "    row= re.sub(\"(#[A-Za-z0-9]+)\",' ',str(row)) #remove any mentions\n",
    "    row=re.sub(r'http\\S+', '', str(row)) #remove any url\n",
    "    \n",
    "    # separate with no blundry MachineLeaning -> Machine Learning \n",
    "    row =' '.join(re.findall('[A-Za-z]*[^A-Z]*',  str(row))) \n",
    "    row =' '.join(re.findall('[(A-Z)-a-z]*[^A-Z]*',  str(row)))\n",
    "    row=\" \".join(nltk.word_tokenize(row))\n",
    "    row = re.sub(r'[.\\s][[A-Za-z0-9]*\\.(com|org|edu|gif,net)','', str(row)) # remove any wibsite link\n",
    "    row = re.sub(r'(--)+', ' ', str(row)) #remove any (--)or more come togethe\n",
    "    row = re.sub(r'((P|p)([.])(M|m))|((A|a)([.])(M|m))', lambda x: x.group().replace(\".\", \"\"), str(row)) #P.M -> PM \n",
    "    row = re.sub(r'\\s:\\s',' ', str(row))\n",
    "    # 3 cases to separate by (-) -> (word-digit)(word-word)(digit-word)\n",
    "    row =re.sub(r'(\\d*[-]\\w*)|(\\w*[-]\\w*)|(\\w*[-]\\d*)', lambda x: x.group().replace(\"-\", \" \"), str(row)) \n",
    "    row = re.sub(r'((\\w+)([.])(\\w+))', lambda x: x.group().replace(\".\", \"\"), str(row)) #take.note -> take note\n",
    "    row =re.sub(r'([.])(\\w+)', lambda x: x.group().replace(\".\", \" . \"),str(row)) # .first -> first\n",
    "    row =re.sub(r'(\\w+)([.])', lambda x: x.group().replace(\".\", \" . \"),str(row))\n",
    "    \n",
    "    row=nltk.sent_tokenize(row)\n",
    "    row=\" \".join([lem.lemmatize(word) for word in row if word not in stopwords.words('english')])\n",
    "    row=re.sub(r\"\"\"[<>——_―()|&=\\‘”\"“``\\'\\♥️🇺🇸'+\\\"©ø/\\[\\]\\\\;?~*!]\"\"\", ' ', str(row)) \n",
    "    row=re.sub(r'(\\s[’]\\s)', lambda x: x.group().replace(\" ’ \", \"’\"), str(row)) #the countery's Leader  -> c ' d\n",
    "    row = re.sub(' +', ' ', str(row)) #remove multi spaces or tap\n",
    "\n",
    "    #row=row[:row.find('sign up')\n",
    "    #row=row[:row.find('download')]\n",
    "    \n",
    "#     if remove_stopwords: # remove stop words\n",
    "#         text = row.split()\n",
    "#         stops = set(stopwords.words(\"english\"))\n",
    "#         row = [w for w in text if not w in stops]\n",
    "#         row = \" \".join(row)\n",
    "    return row\n",
    "\n",
    "def make_summarizer(summarizer_cls, language='english', sentences_count=3):\n",
    "    def _summarizer(text):\n",
    "            sentences=\" \".join(sent_tokenize(text))\n",
    "            #Initializing the parser\n",
    "            parser = PlaintextParser.from_string(sentences, Tokenizer(language))\n",
    "            # Creating a summary of 2 sentences\n",
    "            summarizer=summarizer_cls(parser.document, sentences_count)\n",
    "            summary = []\n",
    "            for sentence in summarizer:\n",
    "                summary.append(str(sentence))\n",
    "            return ''.join(summary)\n",
    "\n",
    "            \n",
    "\n",
    "    return _summarizer\n"
   ]
  },
  {
   "cell_type": "markdown",
   "id": "bc86ec5a",
   "metadata": {},
   "source": [
    "## Get the Data\n"
   ]
  },
  {
   "cell_type": "code",
   "execution_count": 9,
   "id": "00e8b7a4",
   "metadata": {},
   "outputs": [
    {
     "data": {
      "text/html": [
       "<div>\n",
       "<style scoped>\n",
       "    .dataframe tbody tr th:only-of-type {\n",
       "        vertical-align: middle;\n",
       "    }\n",
       "\n",
       "    .dataframe tbody tr th {\n",
       "        vertical-align: top;\n",
       "    }\n",
       "\n",
       "    .dataframe thead th {\n",
       "        text-align: right;\n",
       "    }\n",
       "</style>\n",
       "<table border=\"1\" class=\"dataframe\">\n",
       "  <thead>\n",
       "    <tr style=\"text-align: right;\">\n",
       "      <th></th>\n",
       "      <th>Category</th>\n",
       "      <th>ID</th>\n",
       "      <th>Article</th>\n",
       "      <th>Summary</th>\n",
       "    </tr>\n",
       "  </thead>\n",
       "  <tbody>\n",
       "    <tr>\n",
       "      <th>0</th>\n",
       "      <td>business</td>\n",
       "      <td>424</td>\n",
       "      <td>EU-US seeking deal on air dispute , The EU and...</td>\n",
       "      <td>Both sides hope to reach a negotiated deal ove...</td>\n",
       "    </tr>\n",
       "    <tr>\n",
       "      <th>1</th>\n",
       "      <td>business</td>\n",
       "      <td>441</td>\n",
       "      <td>Trade gap narrows as exports rise , The UK's t...</td>\n",
       "      <td>Overall UK exports - including both goods and ...</td>\n",
       "    </tr>\n",
       "    <tr>\n",
       "      <th>2</th>\n",
       "      <td>business</td>\n",
       "      <td>214</td>\n",
       "      <td>Economy 'strong' in election year , UK busines...</td>\n",
       "      <td>The BDO optimism index - a leading indicator o...</td>\n",
       "    </tr>\n",
       "    <tr>\n",
       "      <th>3</th>\n",
       "      <td>business</td>\n",
       "      <td>305</td>\n",
       "      <td>Brazil approves bankruptcy reform , A major re...</td>\n",
       "      <td>The new legislation changes this, giving prior...</td>\n",
       "    </tr>\n",
       "    <tr>\n",
       "      <th>4</th>\n",
       "      <td>business</td>\n",
       "      <td>174</td>\n",
       "      <td>Yangtze Electric's profits double , Yangtze El...</td>\n",
       "      <td>Yangtze Electric Power, the operator of China'...</td>\n",
       "    </tr>\n",
       "  </tbody>\n",
       "</table>\n",
       "</div>"
      ],
      "text/plain": [
       "   Category   ID                                            Article  \\\n",
       "0  business  424  EU-US seeking deal on air dispute , The EU and...   \n",
       "1  business  441  Trade gap narrows as exports rise , The UK's t...   \n",
       "2  business  214  Economy 'strong' in election year , UK busines...   \n",
       "3  business  305  Brazil approves bankruptcy reform , A major re...   \n",
       "4  business  174  Yangtze Electric's profits double , Yangtze El...   \n",
       "\n",
       "                                             Summary  \n",
       "0  Both sides hope to reach a negotiated deal ove...  \n",
       "1  Overall UK exports - including both goods and ...  \n",
       "2  The BDO optimism index - a leading indicator o...  \n",
       "3  The new legislation changes this, giving prior...  \n",
       "4  Yangtze Electric Power, the operator of China'...  "
      ]
     },
     "execution_count": 9,
     "metadata": {},
     "output_type": "execute_result"
    }
   ],
   "source": [
    "DATA_PATH=Path(\"./dataset/BBC/BBC News Summary/\")\n",
    "newsDF=LoadingArticles(DATA_PATH)\n",
    "\n",
    "newsDF.head()"
   ]
  },
  {
   "cell_type": "markdown",
   "id": "215db880",
   "metadata": {},
   "source": [
    "# Clean the Data"
   ]
  },
  {
   "cell_type": "markdown",
   "id": "3b452f36",
   "metadata": {},
   "source": [
    "Removing unnecessary text. For Example:\n",
    "- CURRENCIES\n",
    "- EMAILS\n",
    "- CONTRACTIONS\n",
    "\n",
    "        Contraction: changing short word to long. For Example: “ain’t” = “is not”; “can’t” = “cannot”.\n",
    "        \n",
    "Then cleaning and normilzing the text"
   ]
  },
  {
   "cell_type": "code",
   "execution_count": 43,
   "id": "a83c8a2f",
   "metadata": {},
   "outputs": [],
   "source": [
    "newsDF[\"Cleaned_Article\"] =newsDF['Article'].apply(lambda x:normalize_Text(x)) \n",
    "newsDF[\"Cleaned_Summary\"] =newsDF['Summary'].apply(lambda x:normalize_Text(x)) \n"
   ]
  },
  {
   "cell_type": "code",
   "execution_count": 44,
   "id": "e9d79111",
   "metadata": {},
   "outputs": [
    {
     "data": {
      "text/html": [
       "<div>\n",
       "<style scoped>\n",
       "    .dataframe tbody tr th:only-of-type {\n",
       "        vertical-align: middle;\n",
       "    }\n",
       "\n",
       "    .dataframe tbody tr th {\n",
       "        vertical-align: top;\n",
       "    }\n",
       "\n",
       "    .dataframe thead th {\n",
       "        text-align: right;\n",
       "    }\n",
       "</style>\n",
       "<table border=\"1\" class=\"dataframe\">\n",
       "  <thead>\n",
       "    <tr style=\"text-align: right;\">\n",
       "      <th></th>\n",
       "      <th>Category</th>\n",
       "      <th>ID</th>\n",
       "      <th>Article</th>\n",
       "      <th>Summary</th>\n",
       "      <th>Cleaned_Article</th>\n",
       "      <th>Cleaned_Summary</th>\n",
       "    </tr>\n",
       "  </thead>\n",
       "  <tbody>\n",
       "    <tr>\n",
       "      <th>0</th>\n",
       "      <td>business</td>\n",
       "      <td>424</td>\n",
       "      <td>EU-US seeking deal on air dispute , The EU and...</td>\n",
       "      <td>Both sides hope to reach a negotiated deal ove...</td>\n",
       "      <td>eu us seeking deal on air dispute , the eu and...</td>\n",
       "      <td>both sides hope to reach a negotiated deal ove...</td>\n",
       "    </tr>\n",
       "    <tr>\n",
       "      <th>1</th>\n",
       "      <td>business</td>\n",
       "      <td>441</td>\n",
       "      <td>Trade gap narrows as exports rise , The UK's t...</td>\n",
       "      <td>Overall UK exports - including both goods and ...</td>\n",
       "      <td>trade gap narrows as exports rise , the uk s t...</td>\n",
       "      <td>overall uk exports including both goods and se...</td>\n",
       "    </tr>\n",
       "    <tr>\n",
       "      <th>2</th>\n",
       "      <td>business</td>\n",
       "      <td>214</td>\n",
       "      <td>Economy 'strong' in election year , UK busines...</td>\n",
       "      <td>The BDO optimism index - a leading indicator o...</td>\n",
       "      <td>economy strong in election year , uk businesse...</td>\n",
       "      <td>the bdo optimism index a leading indicator of ...</td>\n",
       "    </tr>\n",
       "    <tr>\n",
       "      <th>3</th>\n",
       "      <td>business</td>\n",
       "      <td>305</td>\n",
       "      <td>Brazil approves bankruptcy reform , A major re...</td>\n",
       "      <td>The new legislation changes this, giving prior...</td>\n",
       "      <td>brazil approves bankruptcy reform , a major re...</td>\n",
       "      <td>the new legislation changes this , giving prio...</td>\n",
       "    </tr>\n",
       "    <tr>\n",
       "      <th>4</th>\n",
       "      <td>business</td>\n",
       "      <td>174</td>\n",
       "      <td>Yangtze Electric's profits double , Yangtze El...</td>\n",
       "      <td>Yangtze Electric Power, the operator of China'...</td>\n",
       "      <td>yangtze electric s profits double , yangtze el...</td>\n",
       "      <td>yangtze electric power , the operator of china...</td>\n",
       "    </tr>\n",
       "  </tbody>\n",
       "</table>\n",
       "</div>"
      ],
      "text/plain": [
       "   Category   ID                                            Article  \\\n",
       "0  business  424  EU-US seeking deal on air dispute , The EU and...   \n",
       "1  business  441  Trade gap narrows as exports rise , The UK's t...   \n",
       "2  business  214  Economy 'strong' in election year , UK busines...   \n",
       "3  business  305  Brazil approves bankruptcy reform , A major re...   \n",
       "4  business  174  Yangtze Electric's profits double , Yangtze El...   \n",
       "\n",
       "                                             Summary  \\\n",
       "0  Both sides hope to reach a negotiated deal ove...   \n",
       "1  Overall UK exports - including both goods and ...   \n",
       "2  The BDO optimism index - a leading indicator o...   \n",
       "3  The new legislation changes this, giving prior...   \n",
       "4  Yangtze Electric Power, the operator of China'...   \n",
       "\n",
       "                                     Cleaned_Article  \\\n",
       "0  eu us seeking deal on air dispute , the eu and...   \n",
       "1  trade gap narrows as exports rise , the uk s t...   \n",
       "2  economy strong in election year , uk businesse...   \n",
       "3  brazil approves bankruptcy reform , a major re...   \n",
       "4  yangtze electric s profits double , yangtze el...   \n",
       "\n",
       "                                     Cleaned_Summary  \n",
       "0  both sides hope to reach a negotiated deal ove...  \n",
       "1  overall uk exports including both goods and se...  \n",
       "2  the bdo optimism index a leading indicator of ...  \n",
       "3  the new legislation changes this , giving prio...  \n",
       "4  yangtze electric power , the operator of china...  "
      ]
     },
     "execution_count": 44,
     "metadata": {},
     "output_type": "execute_result"
    }
   ],
   "source": [
    "newsDF.head()"
   ]
  },
  {
   "cell_type": "markdown",
   "id": "2a481156",
   "metadata": {},
   "source": [
    "# Plotting Words Distribution"
   ]
  },
  {
   "cell_type": "markdown",
   "id": "395e5467",
   "metadata": {},
   "source": [
    "#### Article"
   ]
  },
  {
   "cell_type": "code",
   "execution_count": 125,
   "id": "aa7b92f2",
   "metadata": {},
   "outputs": [
    {
     "data": {
      "image/png": "[encoded data removed]",
      "text/plain": [
       "<Figure size 720x432 with 1 Axes>"
      ]
     },
     "metadata": {
      "needs_background": "light"
     },
     "output_type": "display_data"
    }
   ],
   "source": [
    "articles = newsDF['Article'].to_list()\n",
    "newsDF['Article_len'] = newsDF['Article'].apply(lambda x: len(re.findall(\"\\w+\",x)))\n",
    "plt.figure(figsize=(10,6))\n",
    "plt.xlim([0,1200]) \n",
    "sns.histplot(data=newsDF, x='Article_len')\n",
    "plt.show()"
   ]
  },
  {
   "cell_type": "markdown",
   "id": "70d75ef2",
   "metadata": {},
   "source": [
    "#### Summary"
   ]
  },
  {
   "cell_type": "code",
   "execution_count": 127,
   "id": "152f20a0",
   "metadata": {},
   "outputs": [
    {
     "data": {
      "image/png": "[encoded data removed]",
      "text/plain": [
       "<Figure size 720x432 with 1 Axes>"
      ]
     },
     "metadata": {
      "needs_background": "light"
     },
     "output_type": "display_data"
    }
   ],
   "source": [
    "articles = newsDF['Summary'].to_list()\n",
    "newsDF['Summary_len'] = newsDF['Summary'].apply(lambda x: len(re.findall(\"\\w+\",x)))\n",
    "plt.figure(figsize=(10,6))\n",
    "plt.xlim([0,650]) \n",
    "sns.histplot(data=newsDF, x='Summary_len')\n",
    "plt.show()"
   ]
  },
  {
   "cell_type": "markdown",
   "id": "245b803e",
   "metadata": {},
   "source": [
    "# Extractive Text Summarization"
   ]
  },
  {
   "cell_type": "markdown",
   "id": "d5fafa1b",
   "metadata": {},
   "source": [
    " It is the traditional method developed first. The main objective is to identify the significant sentences of the text and add them to the summary. You need to note that the summary obtained contains exact sentences from the original text."
   ]
  },
  {
   "cell_type": "markdown",
   "id": "71a45b59",
   "metadata": {},
   "source": [
    "In this section we will discuss two extractive methods:\n",
    " - TextRank \n",
    " - LexRank"
   ]
  },
  {
   "cell_type": "markdown",
   "id": "cf9dd55b",
   "metadata": {},
   "source": [
    "## TextRank"
   ]
  },
  {
   "cell_type": "markdown",
   "id": "258fac37",
   "metadata": {},
   "source": [
    "TextRank is an extractive summarization technique. It is based on the concept that words which occur more frequently are significant. Hence , the sentences containing highly frequent words are important.\n",
    "\n",
    "Based on this , the algorithm assigns scores to each sentence in the text . The top-ranked sentences make it to the summary."
   ]
  },
  {
   "cell_type": "markdown",
   "id": "d278ffed",
   "metadata": {},
   "source": [
    "After importing the sumy package, the first step is to import TextRankSummarizer from sumy.summarizers.text_rank. It is an in-built model that implements TextRank."
   ]
  },
  {
   "cell_type": "markdown",
   "id": "3730fb3d",
   "metadata": {},
   "source": [
    "Next, pass the text corpus as input to summarize function"
   ]
  },
  {
   "cell_type": "markdown",
   "id": "4b461c19",
   "metadata": {},
   "source": [
    "We can decide the number of sentences you want in the summary through parameter sentences_count.\n",
    "We can change the default parameters of the summarize function according to your requirements."
   ]
  },
  {
   "cell_type": "code",
   "execution_count": 45,
   "id": "4193c5aa",
   "metadata": {},
   "outputs": [],
   "source": [
    "#Applying TextRank summarization on data\n",
    "newsDF['Summary (TextRank)'] = newsDF[\"Cleaned_Article\"].apply(make_summarizer(TextRankSummarizer()))\n"
   ]
  },
  {
   "cell_type": "code",
   "execution_count": 24,
   "id": "272d7801",
   "metadata": {},
   "outputs": [
    {
     "ename": "NameError",
     "evalue": "name 'summary' is not defined",
     "output_type": "error",
     "traceback": [
      "\u001b[0;31m---------------------------------------------------------------------------\u001b[0m",
      "\u001b[0;31mNameError\u001b[0m                                 Traceback (most recent call last)",
      "\u001b[0;32m<ipython-input-24-f99bffbe9489>\u001b[0m in \u001b[0;36m<module>\u001b[0;34m\u001b[0m\n\u001b[1;32m     10\u001b[0m \"\"\"\n\u001b[1;32m     11\u001b[0m \u001b[0;34m\u001b[0m\u001b[0m\n\u001b[0;32m---> 12\u001b[0;31m \u001b[0mmake_summarizer\u001b[0m\u001b[0;34m(\u001b[0m\u001b[0mTEXT\u001b[0m\u001b[0;34m,\u001b[0m\u001b[0;34m\"extractive\"\u001b[0m\u001b[0;34m,\u001b[0m\u001b[0mTextRankSummarizer\u001b[0m\u001b[0;34m(\u001b[0m\u001b[0;34m)\u001b[0m\u001b[0;34m)\u001b[0m\u001b[0;34m\u001b[0m\u001b[0;34m\u001b[0m\u001b[0m\n\u001b[0m",
      "\u001b[0;32m<ipython-input-23-87e6e83230b1>\u001b[0m in \u001b[0;36mmake_summarizer\u001b[0;34m(text, method, summarizer_cls)\u001b[0m\n\u001b[1;32m     92\u001b[0m             \u001b[0;32mreturn\u001b[0m \u001b[0msummary\u001b[0m\u001b[0;34m\u001b[0m\u001b[0;34m\u001b[0m\u001b[0m\n\u001b[1;32m     93\u001b[0m \u001b[0;34m\u001b[0m\u001b[0m\n\u001b[0;32m---> 94\u001b[0;31m     \u001b[0;32mreturn\u001b[0m \u001b[0msummary\u001b[0m\u001b[0;34m\u001b[0m\u001b[0;34m\u001b[0m\u001b[0m\n\u001b[0m",
      "\u001b[0;31mNameError\u001b[0m: name 'summary' is not defined"
     ]
    }
   ],
   "source": [
    "TEXT=\"\"\"extRank is an extractive summarization technique. It is based on the concept that words which occur more frequently are significant. Hence , the sentences containing highly frequent words are important.\n",
    "\n",
    "Based on this , the algorithm assigns scores to each sentence in the text . The top-ranked sentences make it to the summary.\n",
    "\n",
    "After importing the sumy package, the first step is to import TextRankSummarizer from sumy.summarizers.text_rank. It is an in-built model that implements TextRank.\n",
    "\n",
    "Next, pass the text corpus as input to summarize function\n",
    "\n",
    "We can decide the number of sentences you want in the summary through parameter sentences_count. We can change the default parameters of the summarize function according to your requirements\n",
    "\"\"\"\n",
    "\n",
    "make_summarizer(TEXT,\"extractive\",TextRankSummarizer())"
   ]
  },
  {
   "cell_type": "code",
   "execution_count": 83,
   "id": "db228014",
   "metadata": {},
   "outputs": [
    {
     "data": {
      "text/plain": [
       "{'rouge-1': {'r': 0.4571161227507897,\n",
       "  'p': 0.6876894556027271,\n",
       "  'f': 0.536492978845241},\n",
       " 'rouge-2': {'r': 0.3477464353555783,\n",
       "  'p': 0.5522263750828629,\n",
       "  'f': 0.41332502474854066},\n",
       " 'rouge-l': {'r': 0.43390923067900067,\n",
       "  'p': 0.652367358034751,\n",
       "  'f': 0.5092454549790129}}"
      ]
     },
     "execution_count": 83,
     "metadata": {},
     "output_type": "execute_result"
    }
   ],
   "source": [
    "rouge.get_scores(newsDF['Summary (TextRank)'],newsDF['Cleaned_Summary'],avg=True)"
   ]
  },
  {
   "cell_type": "markdown",
   "id": "1113fc71",
   "metadata": {},
   "source": [
    "let's look at our TestRank Rouge-n score distribution"
   ]
  },
  {
   "cell_type": "code",
   "execution_count": 82,
   "id": "271e585a",
   "metadata": {},
   "outputs": [
    {
     "data": {
      "image/png": "[encoded data removed]",
      "text/plain": [
       "<Figure size 432x288 with 1 Axes>"
      ]
     },
     "metadata": {
      "needs_background": "light"
     },
     "output_type": "display_data"
    }
   ],
   "source": [
    "#Plot our TestRank Rouge-n score distribution \n",
    "TextRankSummaryrougeF1Score=[]\n",
    "for i in range(0,len(newsDF['Summary (TextRank)'].values)):\n",
    "    TextRankSummaryrougeF1Score.append(rouge.get_scores(newsDF['Summary (TextRank)'].values[i],newsDF['Cleaned_Summary'].values[i],avg=True)['rouge-2']['f'])\n",
    "    \n",
    "sns.histplot(TextRankSummaryrougeF1Score);"
   ]
  },
  {
   "cell_type": "code",
   "execution_count": 49,
   "id": "c72adcb3",
   "metadata": {},
   "outputs": [],
   "source": [
    "newsDF.to_pickle('./dataset/TextRankSummaryBBC.p')\n",
    "newsDF=pd.read_pickle(\"./dataset/TextRankSummaryBBC.p\")\n"
   ]
  },
  {
   "cell_type": "markdown",
   "id": "e77504b1",
   "metadata": {},
   "source": [
    "Similar to TextRank , there is LexRank algorithm which perform summarization."
   ]
  },
  {
   "cell_type": "markdown",
   "id": "a36d401d",
   "metadata": {},
   "source": [
    "## LexRank"
   ]
  },
  {
   "cell_type": "markdown",
   "id": "0ba6adea",
   "metadata": {},
   "source": [
    "Along with TextRank , sumy has various other algorithms to summarize text.\n",
    "In this section, I shall discuss on implementation of the LexRank algorithm for summarization using sumy.\n",
    "\n",
    "A sentence which is similar to many other sentences of the text has a high probability of being important. The approach of LexRank is that a particular sentence is recommended by other similar sentences and hence is ranked higher.Higher the rank, higher is the priority of being included in the summarized text.\n"
   ]
  },
  {
   "cell_type": "markdown",
   "id": "221ae036",
   "metadata": {},
   "source": [
    "We import PlaintextParser since we have a article stored as a string hence we use it Along with parser, you have to import Tokenizer for segmenting the raw text into tokens."
   ]
  },
  {
   "cell_type": "markdown",
   "id": "f8ed3a23",
   "metadata": {},
   "source": [
    "As the text source here is a string, you need to use PlainTextParser.from_string() function to initialize the parser. You can specify the language used as input to the Tokenizer."
   ]
  },
  {
   "cell_type": "code",
   "execution_count": 52,
   "id": "577c0a43",
   "metadata": {},
   "outputs": [],
   "source": [
    "#Applying LexRank on data\n",
    "newsDF['Summary (LexRank)'] = newsDF[\"Cleaned_Article\"].apply(make_summarizer(LexRankSummarizer() ))"
   ]
  },
  {
   "cell_type": "code",
   "execution_count": 84,
   "id": "fbc4e15d",
   "metadata": {},
   "outputs": [
    {
     "data": {
      "text/plain": [
       "{'rouge-1': {'r': 0.4415985610078952,\n",
       "  'p': 0.7739808283765983,\n",
       "  'f': 0.5480845836331633},\n",
       " 'rouge-2': {'r': 0.3280878216556022,\n",
       "  'p': 0.6371476737319538,\n",
       "  'f': 0.4182057589608476},\n",
       " 'rouge-l': {'r': 0.4244969923128706,\n",
       "  'p': 0.7431776733449098,\n",
       "  'f': 0.5267217595616718}}"
      ]
     },
     "execution_count": 84,
     "metadata": {},
     "output_type": "execute_result"
    }
   ],
   "source": [
    "rouge.get_scores(newsDF['Summary (LexRank)'],newsDF['Cleaned_Summary'], avg=True)"
   ]
  },
  {
   "cell_type": "markdown",
   "id": "3c45c1ca",
   "metadata": {},
   "source": [
    "let's look at our LexRank Rouge-n score distribution"
   ]
  },
  {
   "cell_type": "code",
   "execution_count": 87,
   "id": "313e0843",
   "metadata": {},
   "outputs": [
    {
     "data": {
      "image/png": "[encoded data removed]",
      "text/plain": [
       "<Figure size 432x288 with 1 Axes>"
      ]
     },
     "metadata": {
      "needs_background": "light"
     },
     "output_type": "display_data"
    }
   ],
   "source": [
    "#plot our LexRank Rouge-n score distribution\n",
    "LexRankSummaryrougeF1Score=[]\n",
    "for i in range(0,len(newsDF['Summary (LexRank)'].values)):\n",
    "    LexRankSummaryrougeF1Score.append(rouge.get_scores(newsDF['Summary (LexRank)'].values[i],newsDF['Cleaned_Summary'].values[i],avg=True)['rouge-2']['f'])\n",
    "plt.title(\"LexRank Rouge: F1 Score\")\n",
    "sns.histplot(LexRankSummaryrougeF1Score);\n"
   ]
  },
  {
   "cell_type": "code",
   "execution_count": 55,
   "id": "3feff1dc",
   "metadata": {},
   "outputs": [],
   "source": [
    "newsDF.to_pickle('./dataset/LexRankSummaryBBC.p')\n",
    "newsDF=pd.read_pickle(\"./dataset/LexRankSummaryBBC.p\")"
   ]
  },
  {
   "cell_type": "markdown",
   "id": "411efd0a",
   "metadata": {},
   "source": [
    "### It's time to compare TextRank with LexRank based on their Rouge score."
   ]
  },
  {
   "cell_type": "code",
   "execution_count": 88,
   "id": "4e8727cb",
   "metadata": {},
   "outputs": [
    {
     "data": {
      "text/html": [
       "<div>\n",
       "<style scoped>\n",
       "    .dataframe tbody tr th:only-of-type {\n",
       "        vertical-align: middle;\n",
       "    }\n",
       "\n",
       "    .dataframe tbody tr th {\n",
       "        vertical-align: top;\n",
       "    }\n",
       "\n",
       "    .dataframe thead th {\n",
       "        text-align: right;\n",
       "    }\n",
       "</style>\n",
       "<table border=\"1\" class=\"dataframe\">\n",
       "  <thead>\n",
       "    <tr style=\"text-align: right;\">\n",
       "      <th></th>\n",
       "      <th>rouge-1 (LexRank)</th>\n",
       "      <th>rouge-1 (TextRank)</th>\n",
       "      <th>rouge-2 (LexRank)</th>\n",
       "      <th>rouge-2 (TextRank)</th>\n",
       "      <th>rouge-l (LexRank)</th>\n",
       "      <th>rouge-l (TextRank)</th>\n",
       "    </tr>\n",
       "  </thead>\n",
       "  <tbody>\n",
       "    <tr>\n",
       "      <th>r</th>\n",
       "      <td>0.441599</td>\n",
       "      <td>0.457116</td>\n",
       "      <td>0.328088</td>\n",
       "      <td>0.347746</td>\n",
       "      <td>0.424497</td>\n",
       "      <td>0.433909</td>\n",
       "    </tr>\n",
       "    <tr>\n",
       "      <th>p</th>\n",
       "      <td>0.773981</td>\n",
       "      <td>0.687689</td>\n",
       "      <td>0.637148</td>\n",
       "      <td>0.552226</td>\n",
       "      <td>0.743178</td>\n",
       "      <td>0.652367</td>\n",
       "    </tr>\n",
       "    <tr>\n",
       "      <th>f</th>\n",
       "      <td>0.548085</td>\n",
       "      <td>0.536493</td>\n",
       "      <td>0.418206</td>\n",
       "      <td>0.413325</td>\n",
       "      <td>0.526722</td>\n",
       "      <td>0.509245</td>\n",
       "    </tr>\n",
       "  </tbody>\n",
       "</table>\n",
       "</div>"
      ],
      "text/plain": [
       "   rouge-1 (LexRank)  rouge-1 (TextRank)  rouge-2 (LexRank)  \\\n",
       "r           0.441599            0.457116           0.328088   \n",
       "p           0.773981            0.687689           0.637148   \n",
       "f           0.548085            0.536493           0.418206   \n",
       "\n",
       "   rouge-2 (TextRank)  rouge-l (LexRank)  rouge-l (TextRank)  \n",
       "r            0.347746           0.424497            0.433909  \n",
       "p            0.552226           0.743178            0.652367  \n",
       "f            0.413325           0.526722            0.509245  "
      ]
     },
     "execution_count": 88,
     "metadata": {},
     "output_type": "execute_result"
    }
   ],
   "source": [
    "text_rank_scores = rouge.get_scores(newsDF['Summary (TextRank)'],newsDF['Cleaned_Summary'], avg=True)\n",
    "lex_rank_scores = rouge.get_scores(newsDF['Summary (LexRank)'],newsDF['Cleaned_Summary'], avg=True)\n",
    "\n",
    "text_rank_scores_df = pd.DataFrame(text_rank_scores)\n",
    "lex_rank_scores_df = pd.DataFrame(lex_rank_scores)\n",
    "\n",
    "scores_df = text_rank_scores_df.join(lex_rank_scores_df, lsuffix=' (TextRank)', rsuffix=' (LexRank)').sort_index(axis=1)\n",
    "scores_df"
   ]
  },
  {
   "cell_type": "markdown",
   "id": "399e0806",
   "metadata": {},
   "source": [
    "# Abstractive Text Summarization"
   ]
  },
  {
   "cell_type": "markdown",
   "id": "8c1fe4ca",
   "metadata": {},
   "source": [
    "Abstractive summarization is the new state of art method, which generates new sentences that could best represent the whole text. This is better than extractive methods where sentences are just selected from original text for the summary.\n",
    "\n",
    "Some common abstractive models are :\n",
    "- GPT-2\n",
    "- GPT-3\n",
    "- BERT \n",
    "- OpenAI\n",
    "- GPT\n",
    "- T5\n",
    "- BART\n",
    "\n",
    "An awesome feature with transformers is that it provides PreTrained models with weights that can be easily instantiated through from_pretrained() method.\n",
    "In this section we will discuss on BART transformer implementation. \n"
   ]
  },
  {
   "cell_type": "markdown",
   "id": "6c6eeb34",
   "metadata": {},
   "source": [
    "##  BART Transformer"
   ]
  },
  {
   "cell_type": "markdown",
   "id": "aae50fe8",
   "metadata": {},
   "source": [
    "BART is an encoder-decoder model. It converts all language problems into a text-to-text format."
   ]
  },
  {
   "cell_type": "code",
   "execution_count": null,
   "id": "e35a8f5e",
   "metadata": {},
   "outputs": [],
   "source": [
    "## install packages \n",
    "# !pip install pytorch_lightning \n",
    "# !pip install nlp\n",
    "# !pip install transformers\n",
    "# !pip install sentencepiece\n",
    "# !pip install --upgrade pip\n",
    "# !pip install transformers[sentencepiece]\n"
   ]
  },
  {
   "cell_type": "code",
   "execution_count": 89,
   "id": "86140122",
   "metadata": {},
   "outputs": [],
   "source": [
    "from transformers import BartTokenizer, BartForConditionalGeneration\n",
    "import torch\n",
    "tokenizer = BartTokenizer.from_pretrained(\"facebook/bart-large-cnn\")\n",
    "model = BartForConditionalGeneration.from_pretrained(\"facebook/bart-large-cnn\")"
   ]
  },
  {
   "cell_type": "code",
   "execution_count": 90,
   "id": "b0a104ba",
   "metadata": {},
   "outputs": [],
   "source": [
    "tokenizer = BartTokenizer.from_pretrained(\"facebook/bart-large-cnn\")\n",
    "model = BartForConditionalGeneration.from_pretrained(\"facebook/bart-large-cnn\")"
   ]
  },
  {
   "cell_type": "code",
   "execution_count": 91,
   "id": "780b5cef",
   "metadata": {},
   "outputs": [],
   "source": [
    "BartsummaryDict={}\n"
   ]
  },
  {
   "cell_type": "code",
   "execution_count": 92,
   "id": "d5ebd7b3",
   "metadata": {},
   "outputs": [
    {
     "name": "stderr",
     "output_type": "stream",
     "text": [
      "/home/mo/anaconda3/lib/python3.7/site-packages/transformers/generation_utils.py:1648: UserWarning: __floordiv__ is deprecated, and its behavior will change in a future version of pytorch. It currently rounds toward 0 (like the 'trunc' function NOT 'floor'). This results in incorrect rounding for negative values. To keep the current behavior, use torch.div(a, b, rounding_mode='trunc'), or for actual floor division, use torch.div(a, b, rounding_mode='floor').\n",
      "  next_indices = next_tokens // vocab_size\n",
      "/home/mo/anaconda3/lib/python3.7/site-packages/transformers/generation_utils.py:1648: UserWarning: __floordiv__ is deprecated, and its behavior will change in a future version of pytorch. It currently rounds toward 0 (like the 'trunc' function NOT 'floor'). This results in incorrect rounding for negative values. To keep the current behavior, use torch.div(a, b, rounding_mode='trunc'), or for actual floor division, use torch.div(a, b, rounding_mode='floor').\n",
      "  next_indices = next_tokens // vocab_size\n"
     ]
    },
    {
     "name": "stdout",
     "output_type": "stream",
     "text": [
      "250\n",
      "500\n",
      "750\n",
      "1000\n",
      "1250\n",
      "1500\n",
      "1750\n",
      "2000\n"
     ]
    }
   ],
   "source": [
    "i=0\n",
    "\n",
    "for text in newsDF['Cleaned_Article'].values:\n",
    "    inputs = tokenizer([text], padding=True, truncation=True, max_length=512,return_tensors=\"pt\") # change max_length for shorter summaries\n",
    "    outputs = model.generate(inputs['input_ids'], num_beams=4, max_length=80, early_stopping=True)\n",
    "    BartsummaryDict[text] = \" \".join([tokenizer.decode(output, skip_special_tokens=True, clean_up_tokenization_spaces=False) for output in outputs])\n",
    "\n",
    "    i+=1\n",
    "    if i % 250 == 0:\n",
    "        print(i)\n"
   ]
  },
  {
   "cell_type": "code",
   "execution_count": 101,
   "id": "bef9d277",
   "metadata": {},
   "outputs": [],
   "source": [
    "Bartsummary=pd.DataFrame(BartsummaryDict.items(),columns=['Cleaned_Article','BARTSummary'])"
   ]
  },
  {
   "cell_type": "code",
   "execution_count": 103,
   "id": "86695fe5",
   "metadata": {},
   "outputs": [],
   "source": [
    "newsDF=newsDF.merge(Bartsummary,on='Cleaned_Article')"
   ]
  },
  {
   "cell_type": "code",
   "execution_count": 111,
   "id": "3ce38055",
   "metadata": {},
   "outputs": [
    {
     "data": {
      "text/plain": [
       "{'rouge-1': {'r': 0.32356351899703745,\n",
       "  'p': 0.666021931748919,\n",
       "  'f': 0.4242069561327858},\n",
       " 'rouge-2': {'r': 0.19837291122056996,\n",
       "  'p': 0.49424858965950613,\n",
       "  'f': 0.27340107743714703},\n",
       " 'rouge-l': {'r': 0.3067344187052067,\n",
       "  'p': 0.631495122848379,\n",
       "  'f': 0.40221136751975445}}"
      ]
     },
     "execution_count": 111,
     "metadata": {},
     "output_type": "execute_result"
    }
   ],
   "source": [
    "rouge.get_scores(newsDF['BARTSummary'],newsDF['Cleaned_Summary'], avg=True)\n"
   ]
  },
  {
   "cell_type": "markdown",
   "id": "193147a4",
   "metadata": {},
   "source": [
    "let's look at our LexRank Rouge-n score distribution"
   ]
  },
  {
   "cell_type": "code",
   "execution_count": 112,
   "id": "0c453a83",
   "metadata": {},
   "outputs": [
    {
     "data": {
      "image/png": "[encoded data removed]",
      "text/plain": [
       "<Figure size 432x288 with 1 Axes>"
      ]
     },
     "metadata": {
      "needs_background": "light"
     },
     "output_type": "display_data"
    }
   ],
   "source": [
    "#plot our LexRank Rouge-n score distribution\n",
    "BARTSummaryrougeF1Score=[]\n",
    "for i in range(0,len(newsDF['Summary (LexRank)'].values)):\n",
    "    BARTSummaryrougeF1Score.append(rouge.get_scores(newsDF['BARTSummary'].values[i],newsDF['Cleaned_Summary'].values[i],avg=True)['rouge-2']['f'])\n",
    "plt.title(\"BARTSummary Rouge: F1 Score\")\n",
    "sns.histplot(BARTSummaryrougeF1Score);\n"
   ]
  },
  {
   "cell_type": "code",
   "execution_count": 121,
   "id": "bbafb512",
   "metadata": {},
   "outputs": [],
   "source": [
    "text_rank_scores = rouge.get_scores(newsDF['Summary (TextRank)'],newsDF['Cleaned_Summary'], avg=True)\n",
    "lex_rank_scores = rouge.get_scores(newsDF['Summary (LexRank)'],newsDF['Cleaned_Summary'], avg=True)\n",
    "bart_scores = rouge.get_scores(newsDF['BARTSummary'],newsDF['Cleaned_Summary'], avg=True)\n",
    "\n",
    "text_rank_scores_df = pd.DataFrame(text_rank_scores)\n",
    "lex_rank_scores_df = pd.DataFrame(lex_rank_scores)\n",
    "bart_scores_df = pd.DataFrame(bart_scores)\n",
    "text_rank_scores_df.columns=text_rank_scores_df.columns+\"(Text Rank)\"\n",
    "lex_rank_scores_df.columns=lex_rank_scores_df.columns+\"(Lex Rank)\"\n",
    "bart_scores_df.columns=bart_scores_df.columns+\"(BART)\"\n"
   ]
  },
  {
   "cell_type": "markdown",
   "id": "65a4ee94",
   "metadata": {},
   "source": [
    "### It's time to compare  all the models based on their Rouge score."
   ]
  },
  {
   "cell_type": "code",
   "execution_count": 122,
   "id": "69a53b58",
   "metadata": {},
   "outputs": [
    {
     "data": {
      "text/html": [
       "<div>\n",
       "<style scoped>\n",
       "    .dataframe tbody tr th:only-of-type {\n",
       "        vertical-align: middle;\n",
       "    }\n",
       "\n",
       "    .dataframe tbody tr th {\n",
       "        vertical-align: top;\n",
       "    }\n",
       "\n",
       "    .dataframe thead th {\n",
       "        text-align: right;\n",
       "    }\n",
       "</style>\n",
       "<table border=\"1\" class=\"dataframe\">\n",
       "  <thead>\n",
       "    <tr style=\"text-align: right;\">\n",
       "      <th></th>\n",
       "      <th>rouge-1(Text Rank)</th>\n",
       "      <th>rouge-2(Text Rank)</th>\n",
       "      <th>rouge-l(Text Rank)</th>\n",
       "      <th>rouge-1(Lex Rank)</th>\n",
       "      <th>rouge-2(Lex Rank)</th>\n",
       "      <th>rouge-l(Lex Rank)</th>\n",
       "      <th>rouge-1(BART)</th>\n",
       "      <th>rouge-2(BART)</th>\n",
       "      <th>rouge-l(BART)</th>\n",
       "    </tr>\n",
       "  </thead>\n",
       "  <tbody>\n",
       "    <tr>\n",
       "      <th>r</th>\n",
       "      <td>0.457116</td>\n",
       "      <td>0.347746</td>\n",
       "      <td>0.433909</td>\n",
       "      <td>0.441599</td>\n",
       "      <td>0.328088</td>\n",
       "      <td>0.424497</td>\n",
       "      <td>0.323564</td>\n",
       "      <td>0.198373</td>\n",
       "      <td>0.306734</td>\n",
       "    </tr>\n",
       "    <tr>\n",
       "      <th>p</th>\n",
       "      <td>0.687689</td>\n",
       "      <td>0.552226</td>\n",
       "      <td>0.652367</td>\n",
       "      <td>0.773981</td>\n",
       "      <td>0.637148</td>\n",
       "      <td>0.743178</td>\n",
       "      <td>0.666022</td>\n",
       "      <td>0.494249</td>\n",
       "      <td>0.631495</td>\n",
       "    </tr>\n",
       "    <tr>\n",
       "      <th>f</th>\n",
       "      <td>0.536493</td>\n",
       "      <td>0.413325</td>\n",
       "      <td>0.509245</td>\n",
       "      <td>0.548085</td>\n",
       "      <td>0.418206</td>\n",
       "      <td>0.526722</td>\n",
       "      <td>0.424207</td>\n",
       "      <td>0.273401</td>\n",
       "      <td>0.402211</td>\n",
       "    </tr>\n",
       "  </tbody>\n",
       "</table>\n",
       "</div>"
      ],
      "text/plain": [
       "   rouge-1(Text Rank)  rouge-2(Text Rank)  rouge-l(Text Rank)  \\\n",
       "r            0.457116            0.347746            0.433909   \n",
       "p            0.687689            0.552226            0.652367   \n",
       "f            0.536493            0.413325            0.509245   \n",
       "\n",
       "   rouge-1(Lex Rank)  rouge-2(Lex Rank)  rouge-l(Lex Rank)  rouge-1(BART)  \\\n",
       "r           0.441599           0.328088           0.424497       0.323564   \n",
       "p           0.773981           0.637148           0.743178       0.666022   \n",
       "f           0.548085           0.418206           0.526722       0.424207   \n",
       "\n",
       "   rouge-2(BART)  rouge-l(BART)  \n",
       "r       0.198373       0.306734  \n",
       "p       0.494249       0.631495  \n",
       "f       0.273401       0.402211  "
      ]
     },
     "execution_count": 122,
     "metadata": {},
     "output_type": "execute_result"
    }
   ],
   "source": [
    "pd.concat([text_rank_scores_df,lex_rank_scores_df,bart_scores_df],axis=1)"
   ]
  },
  {
   "cell_type": "code",
   "execution_count": 123,
   "id": "df95ccff",
   "metadata": {},
   "outputs": [],
   "source": [
    "newsDF.to_pickle('./dataset/BARTSummaryBBC.p')\n",
    "newsDF=pd.read_pickle(\"./dataset/BARTSummaryBBC.p\")"
   ]
  },
  {
   "cell_type": "code",
   "execution_count": null,
   "id": "0d1d14ba",
   "metadata": {},
   "outputs": [],
   "source": []
  }
 ],
 "metadata": {
  "kernelspec": {
   "display_name": "Python 3",
   "language": "python",
   "name": "python3"
  },
  "language_info": {
   "codemirror_mode": {
    "name": "ipython",
    "version": 3
   },
   "file_extension": ".py",
   "mimetype": "text/x-python",
   "name": "python",
   "nbconvert_exporter": "python",
   "pygments_lexer": "ipython3",
   "version": "3.7.11"
  }
 },
 "nbformat": 4,
 "nbformat_minor": 5
}
